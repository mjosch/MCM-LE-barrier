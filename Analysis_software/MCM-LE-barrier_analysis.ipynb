{
 "cells": [
  {
   "cell_type": "markdown",
   "metadata": {},
   "source": [
    "# MCM complexes are barriers that restrict cohesin-mediated loop extrusion\n",
    "\n",
    "<img style=\"float: left;\" src=\"https://icons.iconarchive.com/icons/dan-wiersma/solar-system/48/Mars-icon.png\">\n",
    "\n",
    "## Jupyter notebooks \n",
    "\n",
    "#### Figures:\n",
    "+ 3\n",
    "+ S9\n",
    "\n",
    "#### Archives:\n",
    "+ Cohesin-MCM_wt_highsalt.yama\n",
    "+ Cohesin-MCM_wt_lowsalt.yama\n",
    "+ Cohesin-only_lowsalt.yama\n",
    "\n",
    "#### Additional data:\n",
    "+ none"
   ]
  },
  {
   "cell_type": "markdown",
   "metadata": {},
   "source": [
    "### Initialize ImageJ"
   ]
  },
  {
   "cell_type": "code",
   "execution_count": 1,
   "metadata": {},
   "outputs": [
    {
     "data": {
      "text/plain": [
       "'2.1.0/1.53c'"
      ]
     },
     "execution_count": 1,
     "metadata": {},
     "output_type": "execute_result"
    }
   ],
   "source": [
    "import imagej\n",
    "ij = imagej.init('/Applications/Fiji_MARS-beta18.app')\n",
    "ij.getVersion()"
   ]
  },
  {
   "cell_type": "markdown",
   "metadata": {},
   "source": [
    "### Imports"
   ]
  },
  {
   "cell_type": "code",
   "execution_count": 2,
   "metadata": {},
   "outputs": [
    {
     "name": "stdout",
     "output_type": "stream",
     "text": [
      "marspy initialized.\n"
     ]
    }
   ],
   "source": [
    "import sys\n",
    "sys.path.insert(0, '..')\n",
    "import numpy as np\n",
    "import pandas as pd\n",
    "import matplotlib.pyplot as plt\n",
    "import seaborn as sns\n",
    "import re\n",
    "import awesome_data\n",
    "from marspy.convert.archive import DnaMoleculeArchive, instantiate_archive, describe_archives\n",
    "from tqdm.notebook import tqdm\n",
    "from functools import reduce\n",
    "from scipy.stats import norm"
   ]
  },
  {
   "cell_type": "markdown",
   "metadata": {},
   "source": [
    "### Select archives"
   ]
  },
  {
   "cell_type": "code",
   "execution_count": 3,
   "metadata": {},
   "outputs": [],
   "source": [
    "selected_archives = ['Cohesin-MCM_wt_highsalt.yama',\n",
    "                     'Cohesin-MCM_wt_lowsalt.yama',\n",
    "                     'Cohesin-only_lowsalt.yama']"
   ]
  },
  {
   "cell_type": "markdown",
   "metadata": {},
   "source": [
    "### Figure style and output directory"
   ]
  },
  {
   "cell_type": "code",
   "execution_count": 4,
   "metadata": {},
   "outputs": [],
   "source": [
    "from figure_style import *"
   ]
  },
  {
   "cell_type": "code",
   "execution_count": 5,
   "metadata": {},
   "outputs": [],
   "source": [
    "set_style_paper()"
   ]
  },
  {
   "cell_type": "code",
   "execution_count": 6,
   "metadata": {},
   "outputs": [
    {
     "data": {
      "text/plain": [
       "'/Volumes/pool-duderstadt/Matthias/git/PhD/data/MCM-cohesin barrier/NEW_150_Preliminary/Figures/SVGs/'"
      ]
     },
     "execution_count": 6,
     "metadata": {},
     "output_type": "execute_result"
    }
   ],
   "source": [
    "# change to desired output directory\n",
    "dir_out = '/Volumes/pool-duderstadt/Matthias/git/PhD/data/MCM-cohesin barrier/NEW_150_Preliminary/Figures/SVGs/'\n",
    "dir_out"
   ]
  },
  {
   "cell_type": "markdown",
   "metadata": {},
   "source": [
    "### Instantiate selected archives"
   ]
  },
  {
   "cell_type": "code",
   "execution_count": 7,
   "metadata": {},
   "outputs": [
    {
     "data": {
      "application/vnd.jupyter.widget-view+json": {
       "model_id": "316b469e20a1421db2907d2645c914f5",
       "version_major": 2,
       "version_minor": 0
      },
      "text/plain": [
       "HBox(children=(FloatProgress(value=0.0, max=3.0), HTML(value='')))"
      ]
     },
     "metadata": {},
     "output_type": "display_data"
    },
    {
     "name": "stdout",
     "output_type": "stream",
     "text": [
      "MCM variant not found. Setting default to n/a\n",
      "\n"
     ]
    }
   ],
   "source": [
    "for archive in tqdm(selected_archives):\n",
    "    instantiate_archive(archive, awesome_data.datasets)"
   ]
  },
  {
   "cell_type": "markdown",
   "metadata": {},
   "source": [
    "### Add df_noidle to all molecules"
   ]
  },
  {
   "cell_type": "code",
   "execution_count": 8,
   "metadata": {},
   "outputs": [
    {
     "data": {
      "application/vnd.jupyter.widget-view+json": {
       "model_id": "700482e7e6ca4032b584c3d72669d6c0",
       "version_major": 2,
       "version_minor": 0
      },
      "text/plain": [
       "HBox(children=(FloatProgress(value=0.0, max=3.0), HTML(value='')))"
      ]
     },
     "metadata": {},
     "output_type": "display_data"
    },
    {
     "name": "stdout",
     "output_type": "stream",
     "text": [
      "\n"
     ]
    }
   ],
   "source": [
    "for archive in tqdm(DnaMoleculeArchive.instances):\n",
    "    \n",
    "    archive.add_df_noidle(prefix='Cohesin_1_', specifier='idle')\n",
    "    "
   ]
  },
  {
   "cell_type": "markdown",
   "metadata": {},
   "source": [
    "### Archives Overview"
   ]
  },
  {
   "cell_type": "code",
   "execution_count": 9,
   "metadata": {
    "scrolled": true
   },
   "outputs": [
    {
     "data": {
      "text/html": [
       "<div>\n",
       "<style scoped>\n",
       "    .dataframe tbody tr th:only-of-type {\n",
       "        vertical-align: middle;\n",
       "    }\n",
       "\n",
       "    .dataframe tbody tr th {\n",
       "        vertical-align: top;\n",
       "    }\n",
       "\n",
       "    .dataframe thead th {\n",
       "        text-align: right;\n",
       "    }\n",
       "</style>\n",
       "<table border=\"1\" class=\"dataframe\">\n",
       "  <thead>\n",
       "    <tr style=\"text-align: right;\">\n",
       "      <th></th>\n",
       "      <th># of datasets</th>\n",
       "      <th># of molecules</th>\n",
       "      <th>labeled proteins</th>\n",
       "      <th>nucleotide</th>\n",
       "      <th>NaCl concentration</th>\n",
       "      <th>MCM variant</th>\n",
       "      <th>archive validation</th>\n",
       "    </tr>\n",
       "  </thead>\n",
       "  <tbody>\n",
       "    <tr>\n",
       "      <th>Cohesin-MCM_wt_highsalt</th>\n",
       "      <td>12</td>\n",
       "      <td>106</td>\n",
       "      <td>Halo-JF546-Cohesin; ybbR-LD655-MCM</td>\n",
       "      <td>ATP</td>\n",
       "      <td>500 mM</td>\n",
       "      <td>wt</td>\n",
       "      <td>passed</td>\n",
       "    </tr>\n",
       "    <tr>\n",
       "      <th>Cohesin-MCM_wt_lowsalt</th>\n",
       "      <td>20</td>\n",
       "      <td>181</td>\n",
       "      <td>Halo-JF546-Cohesin; ybbR-LD655-MCM</td>\n",
       "      <td>ATP</td>\n",
       "      <td>150 mM</td>\n",
       "      <td>wt</td>\n",
       "      <td>passed</td>\n",
       "    </tr>\n",
       "    <tr>\n",
       "      <th>Cohesin-only_lowsalt</th>\n",
       "      <td>4</td>\n",
       "      <td>59</td>\n",
       "      <td>Halo-JF546-Cohesin</td>\n",
       "      <td>ATP</td>\n",
       "      <td>150 mM</td>\n",
       "      <td>n/a</td>\n",
       "      <td>passed</td>\n",
       "    </tr>\n",
       "  </tbody>\n",
       "</table>\n",
       "</div>"
      ],
      "text/plain": [
       "                         # of datasets  # of molecules  \\\n",
       "Cohesin-MCM_wt_highsalt             12             106   \n",
       "Cohesin-MCM_wt_lowsalt              20             181   \n",
       "Cohesin-only_lowsalt                 4              59   \n",
       "\n",
       "                                           labeled proteins nucleotide  \\\n",
       "Cohesin-MCM_wt_highsalt  Halo-JF546-Cohesin; ybbR-LD655-MCM        ATP   \n",
       "Cohesin-MCM_wt_lowsalt   Halo-JF546-Cohesin; ybbR-LD655-MCM        ATP   \n",
       "Cohesin-only_lowsalt                     Halo-JF546-Cohesin        ATP   \n",
       "\n",
       "                        NaCl concentration MCM variant archive validation  \n",
       "Cohesin-MCM_wt_highsalt             500 mM          wt             passed  \n",
       "Cohesin-MCM_wt_lowsalt              150 mM          wt             passed  \n",
       "Cohesin-only_lowsalt                150 mM         n/a             passed  "
      ]
     },
     "execution_count": 9,
     "metadata": {},
     "output_type": "execute_result"
    }
   ],
   "source": [
    "describe_archives(DnaMoleculeArchive.instances)"
   ]
  },
  {
   "cell_type": "markdown",
   "metadata": {},
   "source": [
    "### Functions"
   ]
  },
  {
   "cell_type": "code",
   "execution_count": 10,
   "metadata": {},
   "outputs": [],
   "source": [
    "def calc_msd(df, prefix, msd_col, time_col, tau=1, start=np.nan, end=np.nan):\n",
    "    \"\"\"\n",
    "    Calculates mean square displacement of molecules.\n",
    "    Remove pairs with missing frames in interval, do not drop NaN values!\n",
    "    *df: dataframe\n",
    "    *prefix: protein prefix\n",
    "    *msd_col: column in df to calculate msd (without protein prefix!)\n",
    "    *time_col: time column in df (without protein prefix!)\n",
    "    *tau: time delta used to calculate msd (without protein prefix!)\n",
    "    *ignore_region: provide region name (regex) which is ignored for msd calculation (default False)\n",
    "    \n",
    "    returns (msd, dtime)\n",
    "    msd: mean squared error\n",
    "    dtime: mean time difference underlying msd calculation\n",
    "    \"\"\"\n",
    "    \n",
    "    # if not start / end was specified by used, set to max range\n",
    "    if np.isnan(start):\n",
    "        #start=df[prefix+time_col].iloc[0]\n",
    "        start=df[prefix+time_col].min()\n",
    "        \n",
    "    if np.isnan(end):\n",
    "        #end=df[prefix+time_col].iloc[-1]\n",
    "        end=df[prefix+time_col].max()\n",
    "        \n",
    "    # will be a more accurate way to calculate MSD due to existing NaN values\n",
    "    diffs = []\n",
    "    dtimes = []\n",
    "    for row in df.index:\n",
    "        try:\n",
    "            # check if sliding window range\n",
    "            if (df.loc[row, prefix+time_col] >= start and df.loc[row+tau, prefix+time_col] <= end):\n",
    "\n",
    "                # check if we have consecutive frames (T) which are not null\n",
    "                if (((df.loc[row+tau, prefix+'T'] - df.loc[row, prefix+'T']) == tau) and not\n",
    "                    ((np.isnan(df.loc[row+tau, prefix+msd_col]) or np.isnan(df.loc[row, prefix+msd_col])))):\n",
    "\n",
    "                    diffs.append(df.loc[row+tau, prefix+msd_col] - df.loc[row, prefix+msd_col])\n",
    "                    dtimes.append(df.loc[row+tau, prefix+time_col] - df.loc[row, prefix+time_col])\n",
    "\n",
    "                else:\n",
    "                    #skip to next row\n",
    "                    continue\n",
    "\n",
    "        # end of df\n",
    "        except KeyError:\n",
    "            break\n",
    "            \n",
    "    return np.mean(np.square(diffs)), np.mean(dtimes)"
   ]
  },
  {
   "cell_type": "code",
   "execution_count": 11,
   "metadata": {},
   "outputs": [],
   "source": [
    "def calc_msd_raw(df, prefix, msd_col, time_col, tau=1, start=np.nan, end=np.nan):\n",
    "    \"\"\"\n",
    "    Calculates mean square displacement of molecules.\n",
    "    Remove pairs with missing frames in interval, do not drop NaN values!\n",
    "    *df: dataframe\n",
    "    *prefix: protein prefix\n",
    "    *msd_col: column in df to calculate msd (without protein prefix!)\n",
    "    *time_col: time column in df (without protein prefix!)\n",
    "    *tau: time delta used to calculate msd (without protein prefix!)\n",
    "    *ignore_region: provide region name (regex) which is ignored for msd calculation (default False)\n",
    "    \n",
    "    returns (msd, dtime)\n",
    "    msd: mean squared error\n",
    "    dtime: mean time difference underlying msd calculation\n",
    "    \"\"\"\n",
    "    \n",
    "    # if not start / end was specified by used, set to max range\n",
    "    if np.isnan(start):\n",
    "        #start=df[prefix+time_col].iloc[0]\n",
    "        start=df[prefix+time_col].min()\n",
    "        \n",
    "    if np.isnan(end):\n",
    "        #end=df[prefix+time_col].iloc[-1]\n",
    "        end=df[prefix+time_col].max()\n",
    "        \n",
    "    # will be a more accurate way to calculate MSD due to existing NaN values\n",
    "    diffs = []\n",
    "    dtimes = []\n",
    "    for row in df.index:\n",
    "        try:\n",
    "            # check if sliding window range\n",
    "            if (df.loc[row, prefix+time_col] >= start and df.loc[row+tau, prefix+time_col] <= end):\n",
    "\n",
    "                # check if we have consecutive frames (T) which are not null\n",
    "                if (((df.loc[row+tau, prefix+'T'] - df.loc[row, prefix+'T']) == tau) and not\n",
    "                    ((np.isnan(df.loc[row+tau, prefix+msd_col]) or np.isnan(df.loc[row, prefix+msd_col])))):\n",
    "\n",
    "                    diffs.append(df.loc[row+tau, prefix+msd_col] - df.loc[row, prefix+msd_col])\n",
    "                    dtimes.append(df.loc[row+tau, prefix+time_col] - df.loc[row, prefix+time_col])\n",
    "\n",
    "                else:\n",
    "                    #skip to next row\n",
    "                    continue\n",
    "\n",
    "        # end of df\n",
    "        except KeyError:\n",
    "            break\n",
    "            \n",
    "    return np.square(np.array(diffs))/(2*np.array(dtimes))"
   ]
  },
  {
   "cell_type": "code",
   "execution_count": 12,
   "metadata": {},
   "outputs": [],
   "source": [
    "def calc_ars1_encounters(molecule):\n",
    "    \"\"\"\n",
    "    Calculates encounters and encounter outcomes with ARS1 for a molecule object.\n",
    "    \"\"\"\n",
    "    \n",
    "    #reset to 0 in case it reruns\n",
    "    #visualized encounters\n",
    "    molecule.ars1_encounters_vis = 0\n",
    "    \n",
    "    #passage events\n",
    "    molecule.ars1_pass = 0\n",
    "    \n",
    "    #blocking events\n",
    "    molecule.ars1_block = 0\n",
    "    \n",
    "    #time between consecutive passage events\n",
    "    molecule.pass_times = []\n",
    "    \n",
    "    #observation time\n",
    "    molecule.timespan = (molecule.df[molecule.df['Cohesin_1_slice'] == molecule.params['Cohesin_1_last_slice']]['Cohesin_1_Time (s)'].iloc[0]-\n",
    "                         molecule.df.loc[0,'Cohesin_1_Time (s)'])\n",
    "    \n",
    "    \n",
    "    #get number of theoretical encounters with ARS1 from cohesin only molecules\n",
    "    if 'ars1_mcm' in molecule.tags:\n",
    "        pos_ars1 = molecule.df['MCM_1_Position_on_DNA'].mean()\n",
    "          \n",
    "    else:\n",
    "        pos_ars1 = 5557.5\n",
    "\n",
    "    for row in molecule.df.index:\n",
    "        \n",
    "        try:\n",
    "            #direct collision\n",
    "            if abs(molecule.df.loc[row,'Cohesin_1_Position_on_DNA'] - pos_ars1) < 1500:\n",
    "                \n",
    "                molecule.ars1_encounters_vis+=1\n",
    "\n",
    "                #passed\n",
    "                if (molecule.df.loc[row,'Cohesin_1_Position_on_DNA']<pos_ars1<molecule.df.loc[row+1,'Cohesin_1_Position_on_DNA']-500 or \n",
    "                    molecule.df.loc[row,'Cohesin_1_Position_on_DNA']>pos_ars1>molecule.df.loc[row+1,'Cohesin_1_Position_on_DNA']+500):\n",
    "                    \n",
    "                    molecule.ars1_pass+=1\n",
    "                    molecule.pass_times.append(molecule.df.loc[row+1,'Cohesin_1_Time (s)'])\n",
    "\n",
    "                #blocked\n",
    "                else:\n",
    "                    molecule.ars1_block+=1\n",
    "\n",
    "            #no direct collision\n",
    "            else:\n",
    "\n",
    "                if (molecule.df.loc[row,'Cohesin_1_Position_on_DNA']<pos_ars1<molecule.df.loc[row+1,'Cohesin_1_Position_on_DNA']-500) or (\n",
    "                    molecule.df.loc[row,'Cohesin_1_Position_on_DNA']>pos_ars1>molecule.df.loc[row+1,'Cohesin_1_Position_on_DNA']+500):\n",
    "            \n",
    "                    molecule.ars1_encounters_vis+=1\n",
    "                    molecule.ars1_pass+=1\n",
    "                    molecule.pass_times.append(molecule.df.loc[row+1,'Cohesin_1_Time (s)'])\n",
    "\n",
    "        except KeyError:\n",
    "            #print('last row reached, skip.')\n",
    "            pass\n",
    "    \n",
    "    #calculate difference between passage times\n",
    "    molecule.pass_diff = np.diff(molecule.pass_times,n=1)"
   ]
  },
  {
   "cell_type": "markdown",
   "metadata": {},
   "source": [
    "### Generate main df"
   ]
  },
  {
   "cell_type": "code",
   "execution_count": 176,
   "metadata": {},
   "outputs": [],
   "source": [
    "def setup_pandas_df(archive_instances):\n",
    "    '''Sets up a 2-level df with all relevant information'''\n",
    "    #indices will be UIDs\n",
    "    #outside: set comprehension to cover all possible prefixes in all instances\n",
    "    prefixes = set()\n",
    "    for archive in archive_instances:\n",
    "        prefixes.update(archive.prefixes)\n",
    "    col_1 = sorted(list(prefixes))\n",
    "    #inside\n",
    "    col_2 = ['lifetime', 'initial_intensity', 'msd', 'dtime', 'd_coeff']\n",
    "\n",
    "    hier_index = pd.MultiIndex.from_product([col_1,col_2],names=['molecule','properties'])\n",
    "\n",
    "    return pd.DataFrame(columns=hier_index)"
   ]
  },
  {
   "cell_type": "code",
   "execution_count": 177,
   "metadata": {
    "scrolled": false
   },
   "outputs": [
    {
     "data": {
      "text/html": [
       "<div>\n",
       "<style scoped>\n",
       "    .dataframe tbody tr th:only-of-type {\n",
       "        vertical-align: middle;\n",
       "    }\n",
       "\n",
       "    .dataframe tbody tr th {\n",
       "        vertical-align: top;\n",
       "    }\n",
       "\n",
       "    .dataframe thead tr th {\n",
       "        text-align: left;\n",
       "    }\n",
       "</style>\n",
       "<table border=\"1\" class=\"dataframe\">\n",
       "  <thead>\n",
       "    <tr>\n",
       "      <th>molecule</th>\n",
       "      <th colspan=\"5\" halign=\"left\">Cohesin_1_</th>\n",
       "      <th colspan=\"5\" halign=\"left\">MCM_1_</th>\n",
       "    </tr>\n",
       "    <tr>\n",
       "      <th>properties</th>\n",
       "      <th>d_coeff</th>\n",
       "      <th>dtime</th>\n",
       "      <th>initial_intensity</th>\n",
       "      <th>lifetime</th>\n",
       "      <th>msd</th>\n",
       "      <th>d_coeff</th>\n",
       "      <th>dtime</th>\n",
       "      <th>initial_intensity</th>\n",
       "      <th>lifetime</th>\n",
       "      <th>msd</th>\n",
       "    </tr>\n",
       "  </thead>\n",
       "  <tbody>\n",
       "  </tbody>\n",
       "</table>\n",
       "</div>"
      ],
      "text/plain": [
       "Empty DataFrame\n",
       "Columns: [(Cohesin_1_, d_coeff), (Cohesin_1_, dtime), (Cohesin_1_, initial_intensity), (Cohesin_1_, lifetime), (Cohesin_1_, msd), (MCM_1_, d_coeff), (MCM_1_, dtime), (MCM_1_, initial_intensity), (MCM_1_, lifetime), (MCM_1_, msd)]\n",
       "Index: []"
      ]
     },
     "execution_count": 177,
     "metadata": {},
     "output_type": "execute_result"
    }
   ],
   "source": [
    "df = setup_pandas_df(DnaMoleculeArchive.instances)\n",
    "\n",
    "# sort MultiIndexCols for performance\n",
    "df.sort_index(axis=1, inplace=True)\n",
    "df.head()"
   ]
  },
  {
   "cell_type": "code",
   "execution_count": 178,
   "metadata": {
    "scrolled": true
   },
   "outputs": [
    {
     "data": {
      "application/vnd.jupyter.widget-view+json": {
       "model_id": "0cee753cbcb6401eb928db649f053b90",
       "version_major": 2,
       "version_minor": 0
      },
      "text/plain": [
       "HBox(children=(FloatProgress(value=0.0, max=3.0), HTML(value='')))"
      ]
     },
     "metadata": {},
     "output_type": "display_data"
    },
    {
     "name": "stdout",
     "output_type": "stream",
     "text": [
      "\n"
     ]
    }
   ],
   "source": [
    "for archive in tqdm(DnaMoleculeArchive.instances):\n",
    "\n",
    "    for molecule in archive.molecules:\n",
    "        # general columns first\n",
    "        df.loc[molecule.uid,'dna_length'] = molecule.calc_length_dna()\n",
    "        df.loc[molecule.uid,'nucleotide'] = archive.nucleotide\n",
    "        df.loc[molecule.uid,'nacl'] = archive.nacl\n",
    "        \n",
    "        # assign MCM variant and change to n/a for molecules without MCM on DNA\n",
    "        try:\n",
    "            if molecule.proteins['MCM'] > 0:\n",
    "                df.loc[molecule.uid,'MCM_variant'] = archive.mcm\n",
    "            else:\n",
    "                df.loc[molecule.uid,'MCM_variant'] = 'n/a'\n",
    "        except KeyError:\n",
    "            # archive has 'n/a' by default\n",
    "            df.loc[molecule.uid,'MCM_variant'] = archive.mcm\n",
    "        \n",
    "        try:\n",
    "            df.loc[molecule.uid,'MCM_bleaching_steps'] = molecule.params['MCM_bleaching_steps']\n",
    "        except KeyError:\n",
    "            pass\n",
    "        \n",
    "        df.loc[molecule.uid,'tags'] = reduce(lambda tag1,tag2: tag1+','+tag2, molecule.tags)\n",
    "\n",
    "        # general proteins\n",
    "        for protein in molecule.proteins:\n",
    "            #store protein number\n",
    "            df.loc[molecule.uid,'number_'+protein] = molecule.params['Number_'+protein]\n",
    "            #assign label for each protein\n",
    "            df.loc[molecule.uid,'label_'+protein] = archive.labels[protein]\n",
    "            \n",
    "            \n",
    "        # every specific protein\n",
    "        for prefix in molecule.prefixes:\n",
    "\n",
    "            #take mean intensity from first 10 frames (maybe need try block later if shorter traces)\n",
    "            df.loc[molecule.uid,(prefix,'initial_intensity')] = molecule.df.iloc[:5][prefix+'Intensity'].mean()\n",
    "\n",
    "            #observation time (in s) defined by tracking length\n",
    "            df.loc[molecule.uid,(prefix,'timespan_(s)')] = molecule.df.filter(regex=prefix).dropna()[prefix+'Time_(s)'].max()\n",
    "            \n",
    "            # average position on DNA (try mean but might switch to median due to noise)\n",
    "            df.loc[molecule.uid,(prefix,'avg_position_on_dna')] = molecule.df[prefix+'Position_on_DNA'].mean()\n",
    "            \n",
    "            # MSD (kbp^2) & dtime (s)    \n",
    "            msd, dtime = calc_msd(df=molecule.df_noidle, prefix=prefix, msd_col='Position_on_DNA', time_col='Time_(s)', \n",
    "                                  tau=1)\n",
    "            df.loc[molecule.uid,(prefix,'msd')] = msd/(1000**2)\n",
    "            df.loc[molecule.uid,(prefix,'dtime')] = dtime\n",
    "\n",
    "            # diffusion coefficient (kbp^2/s)\n",
    "            df.loc[molecule.uid,(prefix,'d_coeff')] = df.loc[molecule.uid,(prefix,'msd')] / (2*df.loc[molecule.uid,(prefix,'dtime')])\n",
    "            \n",
    "            # pauses:\n",
    "            # number of pauses\n",
    "            #- do not consider pauses with less than 25 frames (region.end - region.start)\n",
    "            \n",
    "            df.loc[molecule.uid,(prefix,'number_pauses')] = len(list(filter(\n",
    "                lambda region: ('idle' in region.name) and (region.prefix == prefix) and \n",
    "                (region.end - region.start >= 25), molecule.regions)))\n",
    "            \n",
    "            # cumulative pause duration\n",
    "            cum_duration = 0\n",
    "            \n",
    "            for region in molecule.regions:\n",
    "                \n",
    "                # check again for the right regions, prefixes and duration\n",
    "                if ('idle' in region.name) and (region.prefix == prefix) and (region.end - region.start >= 25):\n",
    "                    \n",
    "                    cum_duration += (molecule.df[molecule.df[region.prefix+region.column] == region.end][region.prefix+'Time_(s)'].item() - \n",
    "                                     molecule.df[molecule.df[region.prefix+region.column] == region.start][region.prefix+'Time_(s)'].item())\n",
    "            \n",
    "            df.loc[molecule.uid,(prefix,'cum_pause_duration_(s)')] = cum_duration\n",
    "            \n",
    "            # fraction of trajectory protein being idle\n",
    "            df.loc[molecule.uid,(prefix,'fraction_idle')] = (df.loc[molecule.uid,(prefix,'cum_pause_duration_(s)')] /\n",
    "                                                             df.loc[molecule.uid,(prefix,'timespan_(s)')])\n",
    "        \n",
    "# convert tags back to list\n",
    "df['tags'] = df['tags'].apply(lambda tags: tags.split(','))\n",
    "\n",
    "# replace NaN values for number_MCM with 0, then rename and convert to boolean\n",
    "df['number_MCM'] = df['number_MCM'].apply(lambda value: 0 if np.isnan(value) else value)\n",
    "df['MCM_at_origin'] = df['number_MCM'].apply(lambda value: value>=1)\n",
    "\n",
    "# again sort MultiIndexCols for performance\n",
    "df.sort_index(axis=1, inplace=True)\n",
    "\n",
    "# fix data types\n",
    "df = df.infer_objects()\n"
   ]
  },
  {
   "cell_type": "code",
   "execution_count": 179,
   "metadata": {},
   "outputs": [
    {
     "data": {
      "text/html": [
       "<div>\n",
       "<style scoped>\n",
       "    .dataframe tbody tr th:only-of-type {\n",
       "        vertical-align: middle;\n",
       "    }\n",
       "\n",
       "    .dataframe tbody tr th {\n",
       "        vertical-align: top;\n",
       "    }\n",
       "\n",
       "    .dataframe thead tr th {\n",
       "        text-align: left;\n",
       "    }\n",
       "</style>\n",
       "<table border=\"1\" class=\"dataframe\">\n",
       "  <thead>\n",
       "    <tr>\n",
       "      <th>molecule</th>\n",
       "      <th colspan=\"10\" halign=\"left\">Cohesin_1_</th>\n",
       "      <th>...</th>\n",
       "      <th>MCM_bleaching_steps</th>\n",
       "      <th>MCM_variant</th>\n",
       "      <th>dna_length</th>\n",
       "      <th>label_Cohesin</th>\n",
       "      <th>label_MCM</th>\n",
       "      <th>nacl</th>\n",
       "      <th>nucleotide</th>\n",
       "      <th>number_Cohesin</th>\n",
       "      <th>number_MCM</th>\n",
       "      <th>tags</th>\n",
       "    </tr>\n",
       "    <tr>\n",
       "      <th>properties</th>\n",
       "      <th>avg_position_on_dna</th>\n",
       "      <th>cum_pause_duration_(s)</th>\n",
       "      <th>d_coeff</th>\n",
       "      <th>dtime</th>\n",
       "      <th>fraction_idle</th>\n",
       "      <th>initial_intensity</th>\n",
       "      <th>lifetime</th>\n",
       "      <th>msd</th>\n",
       "      <th>number_pauses</th>\n",
       "      <th>timespan_(s)</th>\n",
       "      <th>...</th>\n",
       "      <th></th>\n",
       "      <th></th>\n",
       "      <th></th>\n",
       "      <th></th>\n",
       "      <th></th>\n",
       "      <th></th>\n",
       "      <th></th>\n",
       "      <th></th>\n",
       "      <th></th>\n",
       "      <th></th>\n",
       "    </tr>\n",
       "  </thead>\n",
       "  <tbody>\n",
       "    <tr>\n",
       "      <th>2PFd8LrNDti9JB4QSh3mR9</th>\n",
       "      <td>10644.210476</td>\n",
       "      <td>0.0</td>\n",
       "      <td>19.546419</td>\n",
       "      <td>0.187930</td>\n",
       "      <td>0.0</td>\n",
       "      <td>86644.6</td>\n",
       "      <td>NaN</td>\n",
       "      <td>7.346713</td>\n",
       "      <td>0.0</td>\n",
       "      <td>112.570</td>\n",
       "      <td>...</td>\n",
       "      <td>4.0</td>\n",
       "      <td>wt</td>\n",
       "      <td>38.988975</td>\n",
       "      <td>Halo-JF546</td>\n",
       "      <td>ybbR-LD655</td>\n",
       "      <td>500 mM</td>\n",
       "      <td>ATP</td>\n",
       "      <td>1.0</td>\n",
       "      <td>1.0</td>\n",
       "      <td>[accept]</td>\n",
       "    </tr>\n",
       "    <tr>\n",
       "      <th>2QGskSzFLzrBr7YLN78knZ</th>\n",
       "      <td>11142.190365</td>\n",
       "      <td>0.0</td>\n",
       "      <td>29.767491</td>\n",
       "      <td>0.182752</td>\n",
       "      <td>0.0</td>\n",
       "      <td>29989.5</td>\n",
       "      <td>NaN</td>\n",
       "      <td>10.880131</td>\n",
       "      <td>0.0</td>\n",
       "      <td>216.561</td>\n",
       "      <td>...</td>\n",
       "      <td>NaN</td>\n",
       "      <td>n/a</td>\n",
       "      <td>43.426647</td>\n",
       "      <td>Halo-JF546</td>\n",
       "      <td>ybbR-LD655</td>\n",
       "      <td>500 mM</td>\n",
       "      <td>ATP</td>\n",
       "      <td>1.0</td>\n",
       "      <td>0.0</td>\n",
       "      <td>[accept]</td>\n",
       "    </tr>\n",
       "    <tr>\n",
       "      <th>2Z4r51hJSvdkiVDjjqKUrj</th>\n",
       "      <td>7348.886267</td>\n",
       "      <td>0.0</td>\n",
       "      <td>43.310971</td>\n",
       "      <td>0.183297</td>\n",
       "      <td>0.0</td>\n",
       "      <td>19703.6</td>\n",
       "      <td>NaN</td>\n",
       "      <td>15.877540</td>\n",
       "      <td>0.0</td>\n",
       "      <td>218.490</td>\n",
       "      <td>...</td>\n",
       "      <td>2.0</td>\n",
       "      <td>wt</td>\n",
       "      <td>36.079005</td>\n",
       "      <td>Halo-JF546</td>\n",
       "      <td>ybbR-LD655</td>\n",
       "      <td>500 mM</td>\n",
       "      <td>ATP</td>\n",
       "      <td>1.0</td>\n",
       "      <td>1.0</td>\n",
       "      <td>[accept]</td>\n",
       "    </tr>\n",
       "    <tr>\n",
       "      <th>2sTgZedaFFf9CK5b3GF6Cn</th>\n",
       "      <td>12755.246844</td>\n",
       "      <td>0.0</td>\n",
       "      <td>52.460617</td>\n",
       "      <td>0.184878</td>\n",
       "      <td>0.0</td>\n",
       "      <td>9802.7</td>\n",
       "      <td>NaN</td>\n",
       "      <td>19.397633</td>\n",
       "      <td>0.0</td>\n",
       "      <td>37.900</td>\n",
       "      <td>...</td>\n",
       "      <td>NaN</td>\n",
       "      <td>n/a</td>\n",
       "      <td>31.864820</td>\n",
       "      <td>Halo-JF546</td>\n",
       "      <td>ybbR-LD655</td>\n",
       "      <td>500 mM</td>\n",
       "      <td>ATP</td>\n",
       "      <td>1.0</td>\n",
       "      <td>0.0</td>\n",
       "      <td>[accept]</td>\n",
       "    </tr>\n",
       "    <tr>\n",
       "      <th>3AoBkpRczab2PADB4kryfY</th>\n",
       "      <td>12054.104532</td>\n",
       "      <td>0.0</td>\n",
       "      <td>23.531469</td>\n",
       "      <td>0.184084</td>\n",
       "      <td>0.0</td>\n",
       "      <td>33791.1</td>\n",
       "      <td>NaN</td>\n",
       "      <td>8.663536</td>\n",
       "      <td>0.0</td>\n",
       "      <td>216.851</td>\n",
       "      <td>...</td>\n",
       "      <td>2.0</td>\n",
       "      <td>wt</td>\n",
       "      <td>42.316194</td>\n",
       "      <td>Halo-JF546</td>\n",
       "      <td>ybbR-LD655</td>\n",
       "      <td>500 mM</td>\n",
       "      <td>ATP</td>\n",
       "      <td>1.0</td>\n",
       "      <td>1.0</td>\n",
       "      <td>[accept, perfect]</td>\n",
       "    </tr>\n",
       "    <tr>\n",
       "      <th>...</th>\n",
       "      <td>...</td>\n",
       "      <td>...</td>\n",
       "      <td>...</td>\n",
       "      <td>...</td>\n",
       "      <td>...</td>\n",
       "      <td>...</td>\n",
       "      <td>...</td>\n",
       "      <td>...</td>\n",
       "      <td>...</td>\n",
       "      <td>...</td>\n",
       "      <td>...</td>\n",
       "      <td>...</td>\n",
       "      <td>...</td>\n",
       "      <td>...</td>\n",
       "      <td>...</td>\n",
       "      <td>...</td>\n",
       "      <td>...</td>\n",
       "      <td>...</td>\n",
       "      <td>...</td>\n",
       "      <td>...</td>\n",
       "      <td>...</td>\n",
       "    </tr>\n",
       "    <tr>\n",
       "      <th>uD2qeX3fcDrkHLrEykKP3x</th>\n",
       "      <td>11509.738841</td>\n",
       "      <td>0.0</td>\n",
       "      <td>19.707632</td>\n",
       "      <td>0.185782</td>\n",
       "      <td>0.0</td>\n",
       "      <td>24928.3</td>\n",
       "      <td>NaN</td>\n",
       "      <td>7.322659</td>\n",
       "      <td>0.0</td>\n",
       "      <td>204.550</td>\n",
       "      <td>...</td>\n",
       "      <td>NaN</td>\n",
       "      <td>n/a</td>\n",
       "      <td>37.013511</td>\n",
       "      <td>Halo-JF546</td>\n",
       "      <td>NaN</td>\n",
       "      <td>150 mM</td>\n",
       "      <td>ATP</td>\n",
       "      <td>1.0</td>\n",
       "      <td>0.0</td>\n",
       "      <td>[accept]</td>\n",
       "    </tr>\n",
       "    <tr>\n",
       "      <th>uwCQQd5mMKFh5gQwnP9b3p</th>\n",
       "      <td>10813.865049</td>\n",
       "      <td>0.0</td>\n",
       "      <td>22.283112</td>\n",
       "      <td>0.186097</td>\n",
       "      <td>0.0</td>\n",
       "      <td>42789.6</td>\n",
       "      <td>NaN</td>\n",
       "      <td>8.293621</td>\n",
       "      <td>0.0</td>\n",
       "      <td>222.751</td>\n",
       "      <td>...</td>\n",
       "      <td>NaN</td>\n",
       "      <td>n/a</td>\n",
       "      <td>35.057096</td>\n",
       "      <td>Halo-JF546</td>\n",
       "      <td>NaN</td>\n",
       "      <td>150 mM</td>\n",
       "      <td>ATP</td>\n",
       "      <td>1.0</td>\n",
       "      <td>0.0</td>\n",
       "      <td>[accept]</td>\n",
       "    </tr>\n",
       "    <tr>\n",
       "      <th>vbQbfgRcaVUyxLdweJ2Y7p</th>\n",
       "      <td>10364.155308</td>\n",
       "      <td>0.0</td>\n",
       "      <td>11.486890</td>\n",
       "      <td>0.185274</td>\n",
       "      <td>0.0</td>\n",
       "      <td>11532.8</td>\n",
       "      <td>NaN</td>\n",
       "      <td>4.256441</td>\n",
       "      <td>0.0</td>\n",
       "      <td>81.171</td>\n",
       "      <td>...</td>\n",
       "      <td>NaN</td>\n",
       "      <td>n/a</td>\n",
       "      <td>36.667045</td>\n",
       "      <td>Halo-JF546</td>\n",
       "      <td>NaN</td>\n",
       "      <td>150 mM</td>\n",
       "      <td>ATP</td>\n",
       "      <td>1.0</td>\n",
       "      <td>0.0</td>\n",
       "      <td>[accept]</td>\n",
       "    </tr>\n",
       "    <tr>\n",
       "      <th>xcfK4nJ1oobZtYbMGVJHYQ</th>\n",
       "      <td>12603.288771</td>\n",
       "      <td>0.0</td>\n",
       "      <td>3.351588</td>\n",
       "      <td>0.185053</td>\n",
       "      <td>0.0</td>\n",
       "      <td>12821.3</td>\n",
       "      <td>NaN</td>\n",
       "      <td>1.240442</td>\n",
       "      <td>0.0</td>\n",
       "      <td>210.860</td>\n",
       "      <td>...</td>\n",
       "      <td>NaN</td>\n",
       "      <td>n/a</td>\n",
       "      <td>31.016125</td>\n",
       "      <td>Halo-JF546</td>\n",
       "      <td>NaN</td>\n",
       "      <td>150 mM</td>\n",
       "      <td>ATP</td>\n",
       "      <td>1.0</td>\n",
       "      <td>0.0</td>\n",
       "      <td>[accept]</td>\n",
       "    </tr>\n",
       "    <tr>\n",
       "      <th>xtREv4R9FAjgZ88vrbJPJM</th>\n",
       "      <td>10339.047184</td>\n",
       "      <td>0.0</td>\n",
       "      <td>18.089110</td>\n",
       "      <td>0.186255</td>\n",
       "      <td>0.0</td>\n",
       "      <td>23820.3</td>\n",
       "      <td>NaN</td>\n",
       "      <td>6.738368</td>\n",
       "      <td>0.0</td>\n",
       "      <td>104.430</td>\n",
       "      <td>...</td>\n",
       "      <td>NaN</td>\n",
       "      <td>n/a</td>\n",
       "      <td>36.013886</td>\n",
       "      <td>Halo-JF546</td>\n",
       "      <td>NaN</td>\n",
       "      <td>150 mM</td>\n",
       "      <td>ATP</td>\n",
       "      <td>1.0</td>\n",
       "      <td>0.0</td>\n",
       "      <td>[accept]</td>\n",
       "    </tr>\n",
       "  </tbody>\n",
       "</table>\n",
       "<p>346 rows × 31 columns</p>\n",
       "</div>"
      ],
      "text/plain": [
       "molecule                        Cohesin_1_                                    \\\n",
       "properties             avg_position_on_dna cum_pause_duration_(s)    d_coeff   \n",
       "2PFd8LrNDti9JB4QSh3mR9        10644.210476                    0.0  19.546419   \n",
       "2QGskSzFLzrBr7YLN78knZ        11142.190365                    0.0  29.767491   \n",
       "2Z4r51hJSvdkiVDjjqKUrj         7348.886267                    0.0  43.310971   \n",
       "2sTgZedaFFf9CK5b3GF6Cn        12755.246844                    0.0  52.460617   \n",
       "3AoBkpRczab2PADB4kryfY        12054.104532                    0.0  23.531469   \n",
       "...                                    ...                    ...        ...   \n",
       "uD2qeX3fcDrkHLrEykKP3x        11509.738841                    0.0  19.707632   \n",
       "uwCQQd5mMKFh5gQwnP9b3p        10813.865049                    0.0  22.283112   \n",
       "vbQbfgRcaVUyxLdweJ2Y7p        10364.155308                    0.0  11.486890   \n",
       "xcfK4nJ1oobZtYbMGVJHYQ        12603.288771                    0.0   3.351588   \n",
       "xtREv4R9FAjgZ88vrbJPJM        10339.047184                    0.0  18.089110   \n",
       "\n",
       "molecule                                                                   \\\n",
       "properties                 dtime fraction_idle initial_intensity lifetime   \n",
       "2PFd8LrNDti9JB4QSh3mR9  0.187930           0.0           86644.6      NaN   \n",
       "2QGskSzFLzrBr7YLN78knZ  0.182752           0.0           29989.5      NaN   \n",
       "2Z4r51hJSvdkiVDjjqKUrj  0.183297           0.0           19703.6      NaN   \n",
       "2sTgZedaFFf9CK5b3GF6Cn  0.184878           0.0            9802.7      NaN   \n",
       "3AoBkpRczab2PADB4kryfY  0.184084           0.0           33791.1      NaN   \n",
       "...                          ...           ...               ...      ...   \n",
       "uD2qeX3fcDrkHLrEykKP3x  0.185782           0.0           24928.3      NaN   \n",
       "uwCQQd5mMKFh5gQwnP9b3p  0.186097           0.0           42789.6      NaN   \n",
       "vbQbfgRcaVUyxLdweJ2Y7p  0.185274           0.0           11532.8      NaN   \n",
       "xcfK4nJ1oobZtYbMGVJHYQ  0.185053           0.0           12821.3      NaN   \n",
       "xtREv4R9FAjgZ88vrbJPJM  0.186255           0.0           23820.3      NaN   \n",
       "\n",
       "molecule                                                      ...  \\\n",
       "properties                    msd number_pauses timespan_(s)  ...   \n",
       "2PFd8LrNDti9JB4QSh3mR9   7.346713           0.0      112.570  ...   \n",
       "2QGskSzFLzrBr7YLN78knZ  10.880131           0.0      216.561  ...   \n",
       "2Z4r51hJSvdkiVDjjqKUrj  15.877540           0.0      218.490  ...   \n",
       "2sTgZedaFFf9CK5b3GF6Cn  19.397633           0.0       37.900  ...   \n",
       "3AoBkpRczab2PADB4kryfY   8.663536           0.0      216.851  ...   \n",
       "...                           ...           ...          ...  ...   \n",
       "uD2qeX3fcDrkHLrEykKP3x   7.322659           0.0      204.550  ...   \n",
       "uwCQQd5mMKFh5gQwnP9b3p   8.293621           0.0      222.751  ...   \n",
       "vbQbfgRcaVUyxLdweJ2Y7p   4.256441           0.0       81.171  ...   \n",
       "xcfK4nJ1oobZtYbMGVJHYQ   1.240442           0.0      210.860  ...   \n",
       "xtREv4R9FAjgZ88vrbJPJM   6.738368           0.0      104.430  ...   \n",
       "\n",
       "molecule               MCM_bleaching_steps MCM_variant dna_length  \\\n",
       "properties                                                          \n",
       "2PFd8LrNDti9JB4QSh3mR9                 4.0          wt  38.988975   \n",
       "2QGskSzFLzrBr7YLN78knZ                 NaN         n/a  43.426647   \n",
       "2Z4r51hJSvdkiVDjjqKUrj                 2.0          wt  36.079005   \n",
       "2sTgZedaFFf9CK5b3GF6Cn                 NaN         n/a  31.864820   \n",
       "3AoBkpRczab2PADB4kryfY                 2.0          wt  42.316194   \n",
       "...                                    ...         ...        ...   \n",
       "uD2qeX3fcDrkHLrEykKP3x                 NaN         n/a  37.013511   \n",
       "uwCQQd5mMKFh5gQwnP9b3p                 NaN         n/a  35.057096   \n",
       "vbQbfgRcaVUyxLdweJ2Y7p                 NaN         n/a  36.667045   \n",
       "xcfK4nJ1oobZtYbMGVJHYQ                 NaN         n/a  31.016125   \n",
       "xtREv4R9FAjgZ88vrbJPJM                 NaN         n/a  36.013886   \n",
       "\n",
       "molecule               label_Cohesin   label_MCM    nacl nucleotide  \\\n",
       "properties                                                            \n",
       "2PFd8LrNDti9JB4QSh3mR9    Halo-JF546  ybbR-LD655  500 mM        ATP   \n",
       "2QGskSzFLzrBr7YLN78knZ    Halo-JF546  ybbR-LD655  500 mM        ATP   \n",
       "2Z4r51hJSvdkiVDjjqKUrj    Halo-JF546  ybbR-LD655  500 mM        ATP   \n",
       "2sTgZedaFFf9CK5b3GF6Cn    Halo-JF546  ybbR-LD655  500 mM        ATP   \n",
       "3AoBkpRczab2PADB4kryfY    Halo-JF546  ybbR-LD655  500 mM        ATP   \n",
       "...                              ...         ...     ...        ...   \n",
       "uD2qeX3fcDrkHLrEykKP3x    Halo-JF546         NaN  150 mM        ATP   \n",
       "uwCQQd5mMKFh5gQwnP9b3p    Halo-JF546         NaN  150 mM        ATP   \n",
       "vbQbfgRcaVUyxLdweJ2Y7p    Halo-JF546         NaN  150 mM        ATP   \n",
       "xcfK4nJ1oobZtYbMGVJHYQ    Halo-JF546         NaN  150 mM        ATP   \n",
       "xtREv4R9FAjgZ88vrbJPJM    Halo-JF546         NaN  150 mM        ATP   \n",
       "\n",
       "molecule               number_Cohesin number_MCM               tags  \n",
       "properties                                                           \n",
       "2PFd8LrNDti9JB4QSh3mR9            1.0        1.0           [accept]  \n",
       "2QGskSzFLzrBr7YLN78knZ            1.0        0.0           [accept]  \n",
       "2Z4r51hJSvdkiVDjjqKUrj            1.0        1.0           [accept]  \n",
       "2sTgZedaFFf9CK5b3GF6Cn            1.0        0.0           [accept]  \n",
       "3AoBkpRczab2PADB4kryfY            1.0        1.0  [accept, perfect]  \n",
       "...                               ...        ...                ...  \n",
       "uD2qeX3fcDrkHLrEykKP3x            1.0        0.0           [accept]  \n",
       "uwCQQd5mMKFh5gQwnP9b3p            1.0        0.0           [accept]  \n",
       "vbQbfgRcaVUyxLdweJ2Y7p            1.0        0.0           [accept]  \n",
       "xcfK4nJ1oobZtYbMGVJHYQ            1.0        0.0           [accept]  \n",
       "xtREv4R9FAjgZ88vrbJPJM            1.0        0.0           [accept]  \n",
       "\n",
       "[346 rows x 31 columns]"
      ]
     },
     "execution_count": 179,
     "metadata": {},
     "output_type": "execute_result"
    }
   ],
   "source": [
    "df"
   ]
  },
  {
   "cell_type": "code",
   "execution_count": 59,
   "metadata": {},
   "outputs": [
    {
     "data": {
      "text/html": [
       "<div>\n",
       "<style scoped>\n",
       "    .dataframe tbody tr th:only-of-type {\n",
       "        vertical-align: middle;\n",
       "    }\n",
       "\n",
       "    .dataframe tbody tr th {\n",
       "        vertical-align: top;\n",
       "    }\n",
       "\n",
       "    .dataframe thead tr th {\n",
       "        text-align: left;\n",
       "    }\n",
       "</style>\n",
       "<table border=\"1\" class=\"dataframe\">\n",
       "  <thead>\n",
       "    <tr>\n",
       "      <th>molecule</th>\n",
       "      <th colspan=\"6\" halign=\"left\">Cohesin_1_</th>\n",
       "      <th colspan=\"4\" halign=\"left\">MCM_1_</th>\n",
       "      <th>...</th>\n",
       "      <th>MCM_bleaching_steps</th>\n",
       "      <th>MCM_variant</th>\n",
       "      <th>dna_length</th>\n",
       "      <th>label_Cohesin</th>\n",
       "      <th>label_MCM</th>\n",
       "      <th>nacl</th>\n",
       "      <th>nucleotide</th>\n",
       "      <th>number_Cohesin</th>\n",
       "      <th>number_MCM</th>\n",
       "      <th>tags</th>\n",
       "    </tr>\n",
       "    <tr>\n",
       "      <th>properties</th>\n",
       "      <th>avg_position_on_dna</th>\n",
       "      <th>d_coeff</th>\n",
       "      <th>dtime</th>\n",
       "      <th>initial_intensity</th>\n",
       "      <th>lifetime</th>\n",
       "      <th>msd</th>\n",
       "      <th>avg_position_on_dna</th>\n",
       "      <th>d_coeff</th>\n",
       "      <th>dtime</th>\n",
       "      <th>initial_intensity</th>\n",
       "      <th>...</th>\n",
       "      <th></th>\n",
       "      <th></th>\n",
       "      <th></th>\n",
       "      <th></th>\n",
       "      <th></th>\n",
       "      <th></th>\n",
       "      <th></th>\n",
       "      <th></th>\n",
       "      <th></th>\n",
       "      <th></th>\n",
       "    </tr>\n",
       "  </thead>\n",
       "  <tbody>\n",
       "    <tr>\n",
       "      <th>26g3CemDSKTjJiNz2xy5P</th>\n",
       "      <td>4406.634988</td>\n",
       "      <td>4.334230</td>\n",
       "      <td>0.182436</td>\n",
       "      <td>8985.9</td>\n",
       "      <td>366</td>\n",
       "      <td>1.581438</td>\n",
       "      <td>5274.280214</td>\n",
       "      <td>0.341654</td>\n",
       "      <td>0.182651</td>\n",
       "      <td>13699.5</td>\n",
       "      <td>...</td>\n",
       "      <td>2.0</td>\n",
       "      <td>wt</td>\n",
       "      <td>35.014283</td>\n",
       "      <td>Halo-JF546</td>\n",
       "      <td>ybbR-LD655</td>\n",
       "      <td>150 mM</td>\n",
       "      <td>ATP</td>\n",
       "      <td>1.0</td>\n",
       "      <td>1.0</td>\n",
       "      <td>[accept]</td>\n",
       "    </tr>\n",
       "    <tr>\n",
       "      <th>2EepcrQfakuKUFLrxzzFAQ</th>\n",
       "      <td>8424.937570</td>\n",
       "      <td>46.397234</td>\n",
       "      <td>0.185371</td>\n",
       "      <td>29505.4</td>\n",
       "      <td>1185</td>\n",
       "      <td>17.201412</td>\n",
       "      <td>5037.222604</td>\n",
       "      <td>0.201490</td>\n",
       "      <td>0.185762</td>\n",
       "      <td>20569.4</td>\n",
       "      <td>...</td>\n",
       "      <td>4.0</td>\n",
       "      <td>wt</td>\n",
       "      <td>37.000000</td>\n",
       "      <td>Halo-JF546</td>\n",
       "      <td>ybbR-LD655</td>\n",
       "      <td>150 mM</td>\n",
       "      <td>ATP</td>\n",
       "      <td>1.0</td>\n",
       "      <td>1.0</td>\n",
       "      <td>[accept]</td>\n",
       "    </tr>\n",
       "    <tr>\n",
       "      <th>2chLcoDWzYU96Zd3bZK69n</th>\n",
       "      <td>11477.467862</td>\n",
       "      <td>7.437264</td>\n",
       "      <td>0.185528</td>\n",
       "      <td>6906.1</td>\n",
       "      <td>1141</td>\n",
       "      <td>2.759637</td>\n",
       "      <td>3816.504394</td>\n",
       "      <td>0.203234</td>\n",
       "      <td>0.185429</td>\n",
       "      <td>19309.0</td>\n",
       "      <td>...</td>\n",
       "      <td>2.0</td>\n",
       "      <td>wt</td>\n",
       "      <td>33.015148</td>\n",
       "      <td>Halo-JF546</td>\n",
       "      <td>ybbR-LD655</td>\n",
       "      <td>150 mM</td>\n",
       "      <td>ATP</td>\n",
       "      <td>1.0</td>\n",
       "      <td>1.0</td>\n",
       "      <td>[accept]</td>\n",
       "    </tr>\n",
       "    <tr>\n",
       "      <th>2dGBGxYFmKsAkuimnTz7P4</th>\n",
       "      <td>18342.998319</td>\n",
       "      <td>2.556944</td>\n",
       "      <td>0.188171</td>\n",
       "      <td>47689.7</td>\n",
       "      <td>1119</td>\n",
       "      <td>0.962284</td>\n",
       "      <td>13405.407154</td>\n",
       "      <td>3.769165</td>\n",
       "      <td>0.188174</td>\n",
       "      <td>9679.5</td>\n",
       "      <td>...</td>\n",
       "      <td>3.0</td>\n",
       "      <td>wt</td>\n",
       "      <td>40.875000</td>\n",
       "      <td>Halo-JF546</td>\n",
       "      <td>ybbR-LD655</td>\n",
       "      <td>150 mM</td>\n",
       "      <td>ATP</td>\n",
       "      <td>1.0</td>\n",
       "      <td>1.0</td>\n",
       "      <td>[accept]</td>\n",
       "    </tr>\n",
       "    <tr>\n",
       "      <th>2sn8zFDmyArfcDb6L1pvBD</th>\n",
       "      <td>2951.243359</td>\n",
       "      <td>3.287720</td>\n",
       "      <td>0.181901</td>\n",
       "      <td>9513.9</td>\n",
       "      <td>1176</td>\n",
       "      <td>1.196080</td>\n",
       "      <td>6600.087405</td>\n",
       "      <td>1.996414</td>\n",
       "      <td>0.181737</td>\n",
       "      <td>15220.5</td>\n",
       "      <td>...</td>\n",
       "      <td>2.0</td>\n",
       "      <td>wt</td>\n",
       "      <td>37.013511</td>\n",
       "      <td>Halo-JF546</td>\n",
       "      <td>ybbR-LD655</td>\n",
       "      <td>150 mM</td>\n",
       "      <td>ATP</td>\n",
       "      <td>1.0</td>\n",
       "      <td>1.0</td>\n",
       "      <td>[accept]</td>\n",
       "    </tr>\n",
       "    <tr>\n",
       "      <th>...</th>\n",
       "      <td>...</td>\n",
       "      <td>...</td>\n",
       "      <td>...</td>\n",
       "      <td>...</td>\n",
       "      <td>...</td>\n",
       "      <td>...</td>\n",
       "      <td>...</td>\n",
       "      <td>...</td>\n",
       "      <td>...</td>\n",
       "      <td>...</td>\n",
       "      <td>...</td>\n",
       "      <td>...</td>\n",
       "      <td>...</td>\n",
       "      <td>...</td>\n",
       "      <td>...</td>\n",
       "      <td>...</td>\n",
       "      <td>...</td>\n",
       "      <td>...</td>\n",
       "      <td>...</td>\n",
       "      <td>...</td>\n",
       "      <td>...</td>\n",
       "    </tr>\n",
       "    <tr>\n",
       "      <th>x3j6Uqgdf4Tk59ZYQeJN8N</th>\n",
       "      <td>2435.017301</td>\n",
       "      <td>4.628464</td>\n",
       "      <td>0.182433</td>\n",
       "      <td>9190.7</td>\n",
       "      <td>835</td>\n",
       "      <td>1.688767</td>\n",
       "      <td>5121.407218</td>\n",
       "      <td>0.419354</td>\n",
       "      <td>0.183002</td>\n",
       "      <td>15568.7</td>\n",
       "      <td>...</td>\n",
       "      <td>4.0</td>\n",
       "      <td>wt</td>\n",
       "      <td>36.055513</td>\n",
       "      <td>Halo-JF546</td>\n",
       "      <td>ybbR-LD655</td>\n",
       "      <td>150 mM</td>\n",
       "      <td>ATP</td>\n",
       "      <td>1.0</td>\n",
       "      <td>1.0</td>\n",
       "      <td>[accept]</td>\n",
       "    </tr>\n",
       "    <tr>\n",
       "      <th>x6UZ52S8N8jx4eoQ4cBok</th>\n",
       "      <td>13514.196345</td>\n",
       "      <td>5.676487</td>\n",
       "      <td>0.188425</td>\n",
       "      <td>26897.2</td>\n",
       "      <td>1150</td>\n",
       "      <td>2.139181</td>\n",
       "      <td>5719.107220</td>\n",
       "      <td>0.147816</td>\n",
       "      <td>0.188421</td>\n",
       "      <td>10153.0</td>\n",
       "      <td>...</td>\n",
       "      <td>1.0</td>\n",
       "      <td>wt</td>\n",
       "      <td>36.000000</td>\n",
       "      <td>Halo-JF546</td>\n",
       "      <td>ybbR-LD655</td>\n",
       "      <td>150 mM</td>\n",
       "      <td>ATP</td>\n",
       "      <td>1.0</td>\n",
       "      <td>1.0</td>\n",
       "      <td>[accept]</td>\n",
       "    </tr>\n",
       "    <tr>\n",
       "      <th>xAA8jGu94f3JqWUbsAYbtQ</th>\n",
       "      <td>4013.661169</td>\n",
       "      <td>2.183648</td>\n",
       "      <td>0.185281</td>\n",
       "      <td>9509.1</td>\n",
       "      <td>428</td>\n",
       "      <td>0.809178</td>\n",
       "      <td>5879.609915</td>\n",
       "      <td>0.380073</td>\n",
       "      <td>0.185332</td>\n",
       "      <td>29217.3</td>\n",
       "      <td>...</td>\n",
       "      <td>4.0</td>\n",
       "      <td>wt</td>\n",
       "      <td>41.012193</td>\n",
       "      <td>Halo-JF546</td>\n",
       "      <td>ybbR-LD655</td>\n",
       "      <td>150 mM</td>\n",
       "      <td>ATP</td>\n",
       "      <td>1.0</td>\n",
       "      <td>1.0</td>\n",
       "      <td>[accept]</td>\n",
       "    </tr>\n",
       "    <tr>\n",
       "      <th>xiGDn8nbuKXy3RrPGfk63z</th>\n",
       "      <td>10785.005161</td>\n",
       "      <td>14.302017</td>\n",
       "      <td>0.188686</td>\n",
       "      <td>10289.7</td>\n",
       "      <td>934</td>\n",
       "      <td>5.397189</td>\n",
       "      <td>17113.327547</td>\n",
       "      <td>1.351352</td>\n",
       "      <td>0.189509</td>\n",
       "      <td>8703.4</td>\n",
       "      <td>...</td>\n",
       "      <td>2.0</td>\n",
       "      <td>wt</td>\n",
       "      <td>33.000000</td>\n",
       "      <td>Halo-JF546</td>\n",
       "      <td>ybbR-LD655</td>\n",
       "      <td>150 mM</td>\n",
       "      <td>ATP</td>\n",
       "      <td>1.0</td>\n",
       "      <td>1.0</td>\n",
       "      <td>[accept]</td>\n",
       "    </tr>\n",
       "    <tr>\n",
       "      <th>xomuXbExG9RPcxutCS7AAb</th>\n",
       "      <td>13678.018427</td>\n",
       "      <td>23.669868</td>\n",
       "      <td>0.185991</td>\n",
       "      <td>9130.2</td>\n",
       "      <td>1137</td>\n",
       "      <td>8.804763</td>\n",
       "      <td>5162.851606</td>\n",
       "      <td>0.135989</td>\n",
       "      <td>0.187862</td>\n",
       "      <td>18392.2</td>\n",
       "      <td>...</td>\n",
       "      <td>3.0</td>\n",
       "      <td>wt</td>\n",
       "      <td>37.013511</td>\n",
       "      <td>Halo-JF546</td>\n",
       "      <td>ybbR-LD655</td>\n",
       "      <td>150 mM</td>\n",
       "      <td>ATP</td>\n",
       "      <td>1.0</td>\n",
       "      <td>1.0</td>\n",
       "      <td>[accept]</td>\n",
       "    </tr>\n",
       "  </tbody>\n",
       "</table>\n",
       "<p>169 rows × 22 columns</p>\n",
       "</div>"
      ],
      "text/plain": [
       "molecule                        Cohesin_1_                       \\\n",
       "properties             avg_position_on_dna    d_coeff     dtime   \n",
       "26g3CemDSKTjJiNz2xy5P          4406.634988   4.334230  0.182436   \n",
       "2EepcrQfakuKUFLrxzzFAQ         8424.937570  46.397234  0.185371   \n",
       "2chLcoDWzYU96Zd3bZK69n        11477.467862   7.437264  0.185528   \n",
       "2dGBGxYFmKsAkuimnTz7P4        18342.998319   2.556944  0.188171   \n",
       "2sn8zFDmyArfcDb6L1pvBD         2951.243359   3.287720  0.181901   \n",
       "...                                    ...        ...       ...   \n",
       "x3j6Uqgdf4Tk59ZYQeJN8N         2435.017301   4.628464  0.182433   \n",
       "x6UZ52S8N8jx4eoQ4cBok         13514.196345   5.676487  0.188425   \n",
       "xAA8jGu94f3JqWUbsAYbtQ         4013.661169   2.183648  0.185281   \n",
       "xiGDn8nbuKXy3RrPGfk63z        10785.005161  14.302017  0.188686   \n",
       "xomuXbExG9RPcxutCS7AAb        13678.018427  23.669868  0.185991   \n",
       "\n",
       "molecule                                                      \\\n",
       "properties             initial_intensity lifetime        msd   \n",
       "26g3CemDSKTjJiNz2xy5P             8985.9      366   1.581438   \n",
       "2EepcrQfakuKUFLrxzzFAQ           29505.4     1185  17.201412   \n",
       "2chLcoDWzYU96Zd3bZK69n            6906.1     1141   2.759637   \n",
       "2dGBGxYFmKsAkuimnTz7P4           47689.7     1119   0.962284   \n",
       "2sn8zFDmyArfcDb6L1pvBD            9513.9     1176   1.196080   \n",
       "...                                  ...      ...        ...   \n",
       "x3j6Uqgdf4Tk59ZYQeJN8N            9190.7      835   1.688767   \n",
       "x6UZ52S8N8jx4eoQ4cBok            26897.2     1150   2.139181   \n",
       "xAA8jGu94f3JqWUbsAYbtQ            9509.1      428   0.809178   \n",
       "xiGDn8nbuKXy3RrPGfk63z           10289.7      934   5.397189   \n",
       "xomuXbExG9RPcxutCS7AAb            9130.2     1137   8.804763   \n",
       "\n",
       "molecule                            MCM_1_                      \\\n",
       "properties             avg_position_on_dna   d_coeff     dtime   \n",
       "26g3CemDSKTjJiNz2xy5P          5274.280214  0.341654  0.182651   \n",
       "2EepcrQfakuKUFLrxzzFAQ         5037.222604  0.201490  0.185762   \n",
       "2chLcoDWzYU96Zd3bZK69n         3816.504394  0.203234  0.185429   \n",
       "2dGBGxYFmKsAkuimnTz7P4        13405.407154  3.769165  0.188174   \n",
       "2sn8zFDmyArfcDb6L1pvBD         6600.087405  1.996414  0.181737   \n",
       "...                                    ...       ...       ...   \n",
       "x3j6Uqgdf4Tk59ZYQeJN8N         5121.407218  0.419354  0.183002   \n",
       "x6UZ52S8N8jx4eoQ4cBok          5719.107220  0.147816  0.188421   \n",
       "xAA8jGu94f3JqWUbsAYbtQ         5879.609915  0.380073  0.185332   \n",
       "xiGDn8nbuKXy3RrPGfk63z        17113.327547  1.351352  0.189509   \n",
       "xomuXbExG9RPcxutCS7AAb         5162.851606  0.135989  0.187862   \n",
       "\n",
       "molecule                                  ... MCM_bleaching_steps MCM_variant  \\\n",
       "properties             initial_intensity  ...                                   \n",
       "26g3CemDSKTjJiNz2xy5P            13699.5  ...                 2.0          wt   \n",
       "2EepcrQfakuKUFLrxzzFAQ           20569.4  ...                 4.0          wt   \n",
       "2chLcoDWzYU96Zd3bZK69n           19309.0  ...                 2.0          wt   \n",
       "2dGBGxYFmKsAkuimnTz7P4            9679.5  ...                 3.0          wt   \n",
       "2sn8zFDmyArfcDb6L1pvBD           15220.5  ...                 2.0          wt   \n",
       "...                                  ...  ...                 ...         ...   \n",
       "x3j6Uqgdf4Tk59ZYQeJN8N           15568.7  ...                 4.0          wt   \n",
       "x6UZ52S8N8jx4eoQ4cBok            10153.0  ...                 1.0          wt   \n",
       "xAA8jGu94f3JqWUbsAYbtQ           29217.3  ...                 4.0          wt   \n",
       "xiGDn8nbuKXy3RrPGfk63z            8703.4  ...                 2.0          wt   \n",
       "xomuXbExG9RPcxutCS7AAb           18392.2  ...                 3.0          wt   \n",
       "\n",
       "molecule               dna_length label_Cohesin   label_MCM    nacl  \\\n",
       "properties                                                            \n",
       "26g3CemDSKTjJiNz2xy5P   35.014283    Halo-JF546  ybbR-LD655  150 mM   \n",
       "2EepcrQfakuKUFLrxzzFAQ  37.000000    Halo-JF546  ybbR-LD655  150 mM   \n",
       "2chLcoDWzYU96Zd3bZK69n  33.015148    Halo-JF546  ybbR-LD655  150 mM   \n",
       "2dGBGxYFmKsAkuimnTz7P4  40.875000    Halo-JF546  ybbR-LD655  150 mM   \n",
       "2sn8zFDmyArfcDb6L1pvBD  37.013511    Halo-JF546  ybbR-LD655  150 mM   \n",
       "...                           ...           ...         ...     ...   \n",
       "x3j6Uqgdf4Tk59ZYQeJN8N  36.055513    Halo-JF546  ybbR-LD655  150 mM   \n",
       "x6UZ52S8N8jx4eoQ4cBok   36.000000    Halo-JF546  ybbR-LD655  150 mM   \n",
       "xAA8jGu94f3JqWUbsAYbtQ  41.012193    Halo-JF546  ybbR-LD655  150 mM   \n",
       "xiGDn8nbuKXy3RrPGfk63z  33.000000    Halo-JF546  ybbR-LD655  150 mM   \n",
       "xomuXbExG9RPcxutCS7AAb  37.013511    Halo-JF546  ybbR-LD655  150 mM   \n",
       "\n",
       "molecule               nucleotide number_Cohesin number_MCM      tags  \n",
       "properties                                                             \n",
       "26g3CemDSKTjJiNz2xy5P         ATP            1.0        1.0  [accept]  \n",
       "2EepcrQfakuKUFLrxzzFAQ        ATP            1.0        1.0  [accept]  \n",
       "2chLcoDWzYU96Zd3bZK69n        ATP            1.0        1.0  [accept]  \n",
       "2dGBGxYFmKsAkuimnTz7P4        ATP            1.0        1.0  [accept]  \n",
       "2sn8zFDmyArfcDb6L1pvBD        ATP            1.0        1.0  [accept]  \n",
       "...                           ...            ...        ...       ...  \n",
       "x3j6Uqgdf4Tk59ZYQeJN8N        ATP            1.0        1.0  [accept]  \n",
       "x6UZ52S8N8jx4eoQ4cBok         ATP            1.0        1.0  [accept]  \n",
       "xAA8jGu94f3JqWUbsAYbtQ        ATP            1.0        1.0  [accept]  \n",
       "xiGDn8nbuKXy3RrPGfk63z        ATP            1.0        1.0  [accept]  \n",
       "xomuXbExG9RPcxutCS7AAb        ATP            1.0        1.0  [accept]  \n",
       "\n",
       "[169 rows x 22 columns]"
      ]
     },
     "execution_count": 59,
     "metadata": {},
     "output_type": "execute_result"
    }
   ],
   "source": [
    "df[(df['nacl']=='150 mM') & (df['number_MCM'] == 1)]"
   ]
  },
  {
   "cell_type": "markdown",
   "metadata": {},
   "source": [
    "## EDA"
   ]
  },
  {
   "cell_type": "code",
   "execution_count": 60,
   "metadata": {},
   "outputs": [
    {
     "data": {
      "text/plain": [
       "<matplotlib.axes._subplots.AxesSubplot at 0x13eed7d50>"
      ]
     },
     "execution_count": 60,
     "metadata": {},
     "output_type": "execute_result"
    },
    {
     "data": {
      "image/png": "[encoded data removed]",
      "text/plain": [
       "<Figure size 192.24x144 with 1 Axes>"
      ]
     },
     "metadata": {},
     "output_type": "display_data"
    }
   ],
   "source": [
    "sns.distplot(df[('MCM_1_','avg_position_on_dna')])\n",
    "sns.distplot(df[('Cohesin_1_','avg_position_on_dna')])"
   ]
  },
  {
   "cell_type": "code",
   "execution_count": 61,
   "metadata": {
    "scrolled": true
   },
   "outputs": [
    {
     "data": {
      "text/plain": [
       "(-10.0, 100.0)"
      ]
     },
     "execution_count": 61,
     "metadata": {},
     "output_type": "execute_result"
    },
    {
     "data": {
      "image/png": "[encoded data removed]",
      "text/plain": [
       "<Figure size 192.24x144 with 1 Axes>"
      ]
     },
     "metadata": {},
     "output_type": "display_data"
    }
   ],
   "source": [
    "sns.distplot(df[df['nacl']=='150 mM']['Cohesin_1_']['d_coeff'], kde=False, fit=norm, bins=np.linspace(0,100,21), label='150 mM')\n",
    "sns.distplot(df[df['nacl']=='500 mM']['Cohesin_1_']['d_coeff'], kde=False, fit=norm, bins=np.linspace(0,100,21), label='500 mM')\n",
    "plt.legend(title='NaCl')\n",
    "plt.xlim(-10,100)"
   ]
  },
  {
   "cell_type": "code",
   "execution_count": 19,
   "metadata": {},
   "outputs": [],
   "source": [
    "sns.set_context('notebook')"
   ]
  },
  {
   "cell_type": "code",
   "execution_count": 21,
   "metadata": {},
   "outputs": [
    {
     "data": {
      "text/plain": [
       "150 mM    240\n",
       "500 mM    106\n",
       "Name: nacl, dtype: int64"
      ]
     },
     "execution_count": 21,
     "metadata": {},
     "output_type": "execute_result"
    }
   ],
   "source": [
    "df['nacl'].value_counts().sort_index()"
   ]
  },
  {
   "cell_type": "code",
   "execution_count": 24,
   "metadata": {},
   "outputs": [
    {
     "data": {
      "text/html": [
       "<div>\n",
       "<style scoped>\n",
       "    .dataframe tbody tr th:only-of-type {\n",
       "        vertical-align: middle;\n",
       "    }\n",
       "\n",
       "    .dataframe tbody tr th {\n",
       "        vertical-align: top;\n",
       "    }\n",
       "\n",
       "    .dataframe thead tr th {\n",
       "        text-align: left;\n",
       "    }\n",
       "\n",
       "    .dataframe thead tr:last-of-type th {\n",
       "        text-align: right;\n",
       "    }\n",
       "</style>\n",
       "<table border=\"1\" class=\"dataframe\">\n",
       "  <thead>\n",
       "    <tr>\n",
       "      <th></th>\n",
       "      <th>molecule</th>\n",
       "      <th colspan=\"10\" halign=\"left\">Cohesin_1_</th>\n",
       "      <th>...</th>\n",
       "      <th colspan=\"2\" halign=\"left\">number_Cohesin</th>\n",
       "      <th colspan=\"8\" halign=\"left\">number_MCM</th>\n",
       "    </tr>\n",
       "    <tr>\n",
       "      <th></th>\n",
       "      <th>properties</th>\n",
       "      <th colspan=\"8\" halign=\"left\">d_coeff</th>\n",
       "      <th colspan=\"2\" halign=\"left\">dtime</th>\n",
       "      <th>...</th>\n",
       "      <th colspan=\"2\" halign=\"left\"></th>\n",
       "      <th colspan=\"8\" halign=\"left\"></th>\n",
       "    </tr>\n",
       "    <tr>\n",
       "      <th></th>\n",
       "      <th></th>\n",
       "      <th>count</th>\n",
       "      <th>mean</th>\n",
       "      <th>std</th>\n",
       "      <th>min</th>\n",
       "      <th>25%</th>\n",
       "      <th>50%</th>\n",
       "      <th>75%</th>\n",
       "      <th>max</th>\n",
       "      <th>count</th>\n",
       "      <th>mean</th>\n",
       "      <th>...</th>\n",
       "      <th>75%</th>\n",
       "      <th>max</th>\n",
       "      <th>count</th>\n",
       "      <th>mean</th>\n",
       "      <th>std</th>\n",
       "      <th>min</th>\n",
       "      <th>25%</th>\n",
       "      <th>50%</th>\n",
       "      <th>75%</th>\n",
       "      <th>max</th>\n",
       "    </tr>\n",
       "    <tr>\n",
       "      <th>nacl</th>\n",
       "      <th>number_MCM</th>\n",
       "      <th></th>\n",
       "      <th></th>\n",
       "      <th></th>\n",
       "      <th></th>\n",
       "      <th></th>\n",
       "      <th></th>\n",
       "      <th></th>\n",
       "      <th></th>\n",
       "      <th></th>\n",
       "      <th></th>\n",
       "      <th></th>\n",
       "      <th></th>\n",
       "      <th></th>\n",
       "      <th></th>\n",
       "      <th></th>\n",
       "      <th></th>\n",
       "      <th></th>\n",
       "      <th></th>\n",
       "      <th></th>\n",
       "      <th></th>\n",
       "      <th></th>\n",
       "    </tr>\n",
       "  </thead>\n",
       "  <tbody>\n",
       "    <tr>\n",
       "      <th rowspan=\"2\" valign=\"top\">150 mM</th>\n",
       "      <th>0.0</th>\n",
       "      <td>71.0</td>\n",
       "      <td>14.988253</td>\n",
       "      <td>9.765985</td>\n",
       "      <td>0.302461</td>\n",
       "      <td>7.567094</td>\n",
       "      <td>12.529392</td>\n",
       "      <td>21.493836</td>\n",
       "      <td>47.154546</td>\n",
       "      <td>71.0</td>\n",
       "      <td>0.185531</td>\n",
       "      <td>...</td>\n",
       "      <td>1.0</td>\n",
       "      <td>1.0</td>\n",
       "      <td>71.0</td>\n",
       "      <td>0.0</td>\n",
       "      <td>0.0</td>\n",
       "      <td>0.0</td>\n",
       "      <td>0.0</td>\n",
       "      <td>0.0</td>\n",
       "      <td>0.0</td>\n",
       "      <td>0.0</td>\n",
       "    </tr>\n",
       "    <tr>\n",
       "      <th>1.0</th>\n",
       "      <td>169.0</td>\n",
       "      <td>13.855721</td>\n",
       "      <td>11.011603</td>\n",
       "      <td>0.104246</td>\n",
       "      <td>5.240610</td>\n",
       "      <td>11.338895</td>\n",
       "      <td>19.145256</td>\n",
       "      <td>61.069531</td>\n",
       "      <td>169.0</td>\n",
       "      <td>0.186159</td>\n",
       "      <td>...</td>\n",
       "      <td>1.0</td>\n",
       "      <td>1.0</td>\n",
       "      <td>169.0</td>\n",
       "      <td>1.0</td>\n",
       "      <td>0.0</td>\n",
       "      <td>1.0</td>\n",
       "      <td>1.0</td>\n",
       "      <td>1.0</td>\n",
       "      <td>1.0</td>\n",
       "      <td>1.0</td>\n",
       "    </tr>\n",
       "    <tr>\n",
       "      <th rowspan=\"2\" valign=\"top\">500 mM</th>\n",
       "      <th>0.0</th>\n",
       "      <td>40.0</td>\n",
       "      <td>39.881477</td>\n",
       "      <td>22.503749</td>\n",
       "      <td>1.261721</td>\n",
       "      <td>27.962753</td>\n",
       "      <td>33.675760</td>\n",
       "      <td>50.871664</td>\n",
       "      <td>135.338213</td>\n",
       "      <td>40.0</td>\n",
       "      <td>0.183505</td>\n",
       "      <td>...</td>\n",
       "      <td>1.0</td>\n",
       "      <td>1.0</td>\n",
       "      <td>40.0</td>\n",
       "      <td>0.0</td>\n",
       "      <td>0.0</td>\n",
       "      <td>0.0</td>\n",
       "      <td>0.0</td>\n",
       "      <td>0.0</td>\n",
       "      <td>0.0</td>\n",
       "      <td>0.0</td>\n",
       "    </tr>\n",
       "    <tr>\n",
       "      <th>1.0</th>\n",
       "      <td>66.0</td>\n",
       "      <td>33.107011</td>\n",
       "      <td>18.325147</td>\n",
       "      <td>3.314084</td>\n",
       "      <td>20.133066</td>\n",
       "      <td>33.765654</td>\n",
       "      <td>43.285031</td>\n",
       "      <td>90.804718</td>\n",
       "      <td>66.0</td>\n",
       "      <td>0.183465</td>\n",
       "      <td>...</td>\n",
       "      <td>1.0</td>\n",
       "      <td>1.0</td>\n",
       "      <td>66.0</td>\n",
       "      <td>1.0</td>\n",
       "      <td>0.0</td>\n",
       "      <td>1.0</td>\n",
       "      <td>1.0</td>\n",
       "      <td>1.0</td>\n",
       "      <td>1.0</td>\n",
       "      <td>1.0</td>\n",
       "    </tr>\n",
       "  </tbody>\n",
       "</table>\n",
       "<p>4 rows × 112 columns</p>\n",
       "</div>"
      ],
      "text/plain": [
       "molecule          Cohesin_1_                                             \\\n",
       "properties           d_coeff                                              \n",
       "                       count       mean        std       min        25%   \n",
       "nacl   number_MCM                                                         \n",
       "150 mM 0.0              71.0  14.988253   9.765985  0.302461   7.567094   \n",
       "       1.0             169.0  13.855721  11.011603  0.104246   5.240610   \n",
       "500 mM 0.0              40.0  39.881477  22.503749  1.261721  27.962753   \n",
       "       1.0              66.0  33.107011  18.325147  3.314084  20.133066   \n",
       "\n",
       "molecule                                                              ...  \\\n",
       "properties                                           dtime            ...   \n",
       "                         50%        75%         max  count      mean  ...   \n",
       "nacl   number_MCM                                                     ...   \n",
       "150 mM 0.0         12.529392  21.493836   47.154546   71.0  0.185531  ...   \n",
       "       1.0         11.338895  19.145256   61.069531  169.0  0.186159  ...   \n",
       "500 mM 0.0         33.675760  50.871664  135.338213   40.0  0.183505  ...   \n",
       "       1.0         33.765654  43.285031   90.804718   66.0  0.183465  ...   \n",
       "\n",
       "molecule          number_Cohesin      number_MCM                           \\\n",
       "properties                                                                  \n",
       "                             75%  max      count mean  std  min  25%  50%   \n",
       "nacl   number_MCM                                                           \n",
       "150 mM 0.0                   1.0  1.0       71.0  0.0  0.0  0.0  0.0  0.0   \n",
       "       1.0                   1.0  1.0      169.0  1.0  0.0  1.0  1.0  1.0   \n",
       "500 mM 0.0                   1.0  1.0       40.0  0.0  0.0  0.0  0.0  0.0   \n",
       "       1.0                   1.0  1.0       66.0  1.0  0.0  1.0  1.0  1.0   \n",
       "\n",
       "molecule                     \n",
       "properties                   \n",
       "                   75%  max  \n",
       "nacl   number_MCM            \n",
       "150 mM 0.0         0.0  0.0  \n",
       "       1.0         1.0  1.0  \n",
       "500 mM 0.0         0.0  0.0  \n",
       "       1.0         1.0  1.0  \n",
       "\n",
       "[4 rows x 112 columns]"
      ]
     },
     "execution_count": 24,
     "metadata": {},
     "output_type": "execute_result"
    }
   ],
   "source": [
    "df.groupby(['nacl','number_MCM']).describe()"
   ]
  },
  {
   "cell_type": "code",
   "execution_count": 25,
   "metadata": {},
   "outputs": [
    {
     "data": {
      "image/png": "[encoded data removed]",
      "text/plain": [
       "<Figure size 360x360 with 1 Axes>"
      ]
     },
     "metadata": {},
     "output_type": "display_data"
    }
   ],
   "source": [
    "sns.set_context('notebook')\n",
    "# Cohesin diffusion coefficient\n",
    "fig,axes = plt.subplots(figsize=(5,5))\n",
    "\n",
    "\n",
    "#setup style\n",
    "\n",
    "#boxprops = {'edgecolor': 'k', 'linewidth': 2, 'facecolor': 'w'}\n",
    "boxprops = {'edgecolor': 'k', 'linewidth': 2}\n",
    "lineprops = {'color': 'k', 'linewidth': 2}\n",
    "kwargs = {'palette': 'viridis_r', 'hue_order': [0, 1]}\n",
    "\n",
    "boxplot_kwargs = dict({'boxprops': boxprops, 'medianprops': lineprops,\n",
    "                       'whiskerprops': lineprops, 'capprops': lineprops,\n",
    "                       'width': 0.75},\n",
    "                      **kwargs)\n",
    "\n",
    "stripplot_kwargs = dict({'linewidth': 0.6, 'size': 6, 'alpha': 0.5},\n",
    "                        **kwargs)\n",
    "\n",
    "\n",
    "\n",
    "sns.boxplot(x='nacl', y=('Cohesin_1_','d_coeff'), hue='number_MCM',data=df, ax=axes,\n",
    "           order=['150 mM', '500 mM'], fliersize=0, **boxplot_kwargs)\n",
    "sns.stripplot(x='nacl', y=('Cohesin_1_','d_coeff'), hue='number_MCM',data=df, ax=axes,\n",
    "           order=['150 mM', '500 mM'], dodge=True, jitter=0.25, **stripplot_kwargs)\n",
    "#axes[1].artists\n",
    "#axes.set_xlim(0,100)\n",
    "axes.set_ylim(-10,100)\n",
    "axes.set_xlabel('c(NaCl)')\n",
    "axes.set_ylabel('Cohesin diffusion coefficient (kbp2/s)')\n",
    "axes.legend(bbox_to_anchor=[1, 0.5],frameon=False, title='number_MCM', loc='center left')\n",
    "\n",
    "\n",
    "#calculate number of observations\n",
    "nobs = df.groupby(['nacl','number_MCM']).size()\n",
    "nobs = [str(x) for x in nobs]\n",
    "nobs = [\"n = \" + i for i in nobs]\n",
    "\n",
    "# calculate mean and ci\n",
    "diffusion = []\n",
    "# fit data to normal distribution and print on plot\n",
    "for nacl in df['nacl'].sort_values().unique():\n",
    "    for num_mcm in df['number_MCM'].sort_values().unique():\n",
    "        mean = df[(df['nacl']==nacl) & (df['number_MCM']==num_mcm)][('Cohesin_1_','d_coeff')].mean()\n",
    "        sem = df[(df['nacl']==nacl) & (df['number_MCM']==num_mcm)][('Cohesin_1_','d_coeff')].sem()*1.96\n",
    "        diffusion.append(f'{round(mean,1)}\\n+- {round(sem,1)}')\n",
    "\n",
    "#put nobs and diff values into plot\n",
    "\n",
    "ind = 0\n",
    "for tick in range(len(axes.get_xticklabels())):\n",
    "    axes.text(tick-.2, 100, nobs[ind], horizontalalignment='center', verticalalignment='top', color='k')\n",
    "    axes.text(tick+.2, 100, nobs[ind+1], horizontalalignment='center', verticalalignment='top', color='k')\n",
    "    axes.text(tick-.2, 85, diffusion[ind], horizontalalignment='center', verticalalignment='top', color='k')\n",
    "    axes.text(tick+.2, 85, diffusion[ind+1], horizontalalignment='center', verticalalignment='top', color='k')\n",
    "    ind += 2\n",
    "\n",
    "for patch in axes.artists:\n",
    "    r, g, b, a = patch.get_facecolor()\n",
    "    patch.set_facecolor((r, g, b, .3))\n",
    "    \n",
    "#axes[1].set_title('Different labels do not affect RNAP transcription')\n",
    "sns.despine()"
   ]
  },
  {
   "cell_type": "code",
   "execution_count": 26,
   "metadata": {},
   "outputs": [
    {
     "data": {
      "image/png": "[encoded data removed]",
      "text/plain": [
       "<Figure size 360x360 with 1 Axes>"
      ]
     },
     "metadata": {},
     "output_type": "display_data"
    }
   ],
   "source": [
    "sns.set_context('notebook')\n",
    "# Cohesin diffusion coefficient\n",
    "fig,axes = plt.subplots(figsize=(5,5))\n",
    "\n",
    "\n",
    "#setup style\n",
    "\n",
    "#boxprops = {'edgecolor': 'k', 'linewidth': 2, 'facecolor': 'w'}\n",
    "boxprops = {'edgecolor': 'k', 'linewidth': 2}\n",
    "lineprops = {'color': 'k', 'linewidth': 2}\n",
    "kwargs = {'palette': 'viridis_r', 'hue_order': [0, 1]}\n",
    "\n",
    "boxplot_kwargs = dict({'boxprops': boxprops, 'medianprops': lineprops,\n",
    "                       'whiskerprops': lineprops, 'capprops': lineprops,\n",
    "                       'width': 0.75},\n",
    "                      **kwargs)\n",
    "\n",
    "stripplot_kwargs = dict({'linewidth': 0.6, 'size': 6, 'alpha': 0.5},\n",
    "                        **kwargs)\n",
    "\n",
    "\n",
    "\n",
    "sns.boxplot(x='nacl', y=('Cohesin_1_','d_coeff'), hue='number_MCM',data=df, ax=axes,\n",
    "           order=['150 mM', '500 mM'], fliersize=0, **boxplot_kwargs)\n",
    "sns.stripplot(x='nacl', y=('Cohesin_1_','d_coeff'), hue='number_MCM',data=df, ax=axes,\n",
    "           order=['150 mM', '500 mM'], dodge=True, jitter=0.25, **stripplot_kwargs)\n",
    "#axes[1].artists\n",
    "#axes.set_xlim(0,100)\n",
    "axes.set_ylim(-10,100)\n",
    "axes.set_xlabel('c(NaCl)')\n",
    "axes.set_ylabel('Cohesin diffusion coefficient (kbp2/s)')\n",
    "axes.legend(bbox_to_anchor=[1, 0.5],frameon=False, title='number_MCM', loc='center left')\n",
    "\n",
    "\n",
    "#calculate number of observations\n",
    "nobs = df.groupby(['nacl','number_MCM']).size()\n",
    "nobs = [str(x) for x in nobs]\n",
    "nobs = [\"n = \" + i for i in nobs]\n",
    "\n",
    "# calculate mean and ci\n",
    "diffusion = []\n",
    "# fit data to normal distribution and print on plot\n",
    "for nacl in df['nacl'].sort_values().unique():\n",
    "    for num_mcm in df['number_MCM'].sort_values().unique():\n",
    "        mean = df[(df['nacl']==nacl) & (df['number_MCM']==num_mcm)][('Cohesin_1_','d_coeff')].mean()\n",
    "        sem = df[(df['nacl']==nacl) & (df['number_MCM']==num_mcm)][('Cohesin_1_','d_coeff')].sem()*1.96\n",
    "        diffusion.append(f'{round(mean,1)}\\n+- {round(sem,1)}')\n",
    "\n",
    "#put nobs and diff values into plot\n",
    "\n",
    "ind = 0\n",
    "for tick in range(len(axes.get_xticklabels())):\n",
    "    axes.text(tick-.2, 100, nobs[ind], horizontalalignment='center', verticalalignment='top', color='k')\n",
    "    axes.text(tick+.2, 100, nobs[ind+1], horizontalalignment='center', verticalalignment='top', color='k')\n",
    "    axes.text(tick-.2, 85, diffusion[ind], horizontalalignment='center', verticalalignment='top', color='k')\n",
    "    axes.text(tick+.2, 85, diffusion[ind+1], horizontalalignment='center', verticalalignment='top', color='k')\n",
    "    ind += 2\n",
    "\n",
    "for patch in axes.artists:\n",
    "    r, g, b, a = patch.get_facecolor()\n",
    "    patch.set_facecolor((r, g, b, .2))\n",
    "    \n",
    "#axes[1].set_title('Different labels do not affect RNAP transcription')\n",
    "sns.despine()\n",
    "\n",
    "for i, artist in enumerate(axes.artists):\n",
    "    if i % 2 == 0:\n",
    "        col = sns.color_palette('viridis_r')[1]\n",
    "    else:\n",
    "        col = sns.color_palette('viridis_r')[-2]\n",
    "\n",
    "    # This sets the color for the main box\n",
    "    artist.set_edgecolor(col)\n",
    "    # Each box has 6 associated Line2D objects (to make the whiskers, fliers, etc.)\n",
    "    # Loop over them here, and use the same colour as above\n",
    "    for j in range(i*6,i*6+6):\n",
    "        line = axes.lines[j]\n",
    "        line.set_color(col)\n",
    "        line.set_mfc(col)\n",
    "        line.set_mec(col)\n",
    "        "
   ]
  },
  {
   "cell_type": "code",
   "execution_count": 27,
   "metadata": {},
   "outputs": [
    {
     "data": {
      "image/png": "[encoded data removed]",
      "text/plain": [
       "<Figure size 360x360 with 1 Axes>"
      ]
     },
     "metadata": {},
     "output_type": "display_data"
    }
   ],
   "source": [
    "sns.set_context('notebook')\n",
    "# Cohesin diffusion coefficient\n",
    "fig,axes = plt.subplots(figsize=(5,5))\n",
    "\n",
    "\n",
    "#setup style\n",
    "\n",
    "boxprops = {'edgecolor': 'k', 'linewidth': 2, 'facecolor': 'w'}\n",
    "lineprops = {'color': 'k', 'linewidth': 2}\n",
    "kwargs = {'palette': 'viridis_r', 'hue_order': [0, 1]}\n",
    "\n",
    "boxplot_kwargs = dict({'boxprops': boxprops, 'medianprops': lineprops,\n",
    "                       'whiskerprops': lineprops, 'capprops': lineprops,\n",
    "                       'width': 0.75},\n",
    "                      **kwargs)\n",
    "\n",
    "stripplot_kwargs = dict({'linewidth': 0.6, 'size': 6, 'alpha': 0.5},\n",
    "                        **kwargs)\n",
    "\n",
    "\n",
    "\n",
    "sns.boxplot(x='nacl', y=('Cohesin_1_','d_coeff'), hue='number_MCM',data=df, ax=axes,\n",
    "           order=['150 mM', '500 mM'], fliersize=0, **boxplot_kwargs)\n",
    "sns.stripplot(x='nacl', y=('Cohesin_1_','d_coeff'), hue='number_MCM',data=df, ax=axes,\n",
    "           order=['150 mM', '500 mM'], dodge=True, jitter=0.25, **stripplot_kwargs)\n",
    "#axes[1].artists\n",
    "#axes.set_xlim(0,100)\n",
    "axes.set_ylim(-10,100)\n",
    "axes.set_xlabel('c(NaCl)')\n",
    "axes.set_ylabel('Cohesin diffusion coefficient (kbp2/s)')\n",
    "axes.legend(bbox_to_anchor=[1, 0.5],frameon=False, title='number_MCM', loc='center left')\n",
    "\n",
    "#calculate number of observations\n",
    "nobs = df.groupby(['nacl','number_MCM']).size()\n",
    "nobs = [str(x) for x in nobs]\n",
    "nobs = [\"n = \" + i for i in nobs]\n",
    "\n",
    "# calculate mean and ci\n",
    "diffusion = []\n",
    "# fit data to normal distribution and print on plot\n",
    "for nacl in df['nacl'].sort_values().unique():\n",
    "    for num_mcm in df['number_MCM'].sort_values().unique():\n",
    "        mean = df[(df['nacl']==nacl) & (df['number_MCM']==num_mcm)][('Cohesin_1_','d_coeff')].mean()\n",
    "        sem = df[(df['nacl']==nacl) & (df['number_MCM']==num_mcm)][('Cohesin_1_','d_coeff')].sem()*1.96\n",
    "        diffusion.append(f'{round(mean,1)}\\n+- {round(sem,1)}')\n",
    "\n",
    "#put nobs and diff values into plot\n",
    "\n",
    "ind = 0\n",
    "for tick in range(len(axes.get_xticklabels())):\n",
    "    axes.text(tick-.2, 100, nobs[ind], horizontalalignment='center', verticalalignment='top', color='k')\n",
    "    axes.text(tick+.2, 100, nobs[ind+1], horizontalalignment='center', verticalalignment='top', color='k')\n",
    "    axes.text(tick-.2, 85, diffusion[ind], horizontalalignment='center', verticalalignment='top', color='k')\n",
    "    axes.text(tick+.2, 85, diffusion[ind+1], horizontalalignment='center', verticalalignment='top', color='k')\n",
    "    ind += 2\n",
    "\n",
    "for patch in axes.artists:\n",
    "    r, g, b, a = patch.get_facecolor()\n",
    "    patch.set_facecolor((r, g, b, .2))\n",
    "    \n",
    "#axes[1].set_title('Different labels do not affect RNAP transcription')\n",
    "sns.despine()\n",
    "\n",
    "for i, artist in enumerate(axes.artists):\n",
    "    if i % 2 == 0:\n",
    "        col = sns.color_palette('viridis_r')[1]\n",
    "    else:\n",
    "        col = sns.color_palette('viridis_r')[-2]\n",
    "\n",
    "    # This sets the color for the main box\n",
    "    artist.set_edgecolor(col)\n",
    "    # Each box has 6 associated Line2D objects (to make the whiskers, fliers, etc.)\n",
    "    # Loop over them here, and use the same colour as above\n",
    "    for j in range(i*6,i*6+6):\n",
    "        line = axes.lines[j]\n",
    "        line.set_color(col)\n",
    "        line.set_mfc(col)\n",
    "        line.set_mec(col)"
   ]
  },
  {
   "cell_type": "code",
   "execution_count": 168,
   "metadata": {},
   "outputs": [
    {
     "data": {
      "text/plain": [
       "<matplotlib.legend.Legend at 0x13aae6f90>"
      ]
     },
     "execution_count": 168,
     "metadata": {},
     "output_type": "execute_result"
    },
    {
     "data": {
      "image/png": "[encoded data removed]",
      "text/plain": [
       "<Figure size 192.24x144 with 1 Axes>"
      ]
     },
     "metadata": {},
     "output_type": "display_data"
    }
   ],
   "source": [
    "sns.distplot(np.log(df[df['nacl']=='150 mM']['Cohesin_1_']['d_coeff']), kde=False, fit=norm, bins=np.linspace(0,6,13), label='150 mM')\n",
    "sns.distplot(np.log(df[df['nacl']=='500 mM']['Cohesin_1_']['d_coeff']), kde=False, fit=norm, bins=np.linspace(0,6,13), label='500 mM')\n",
    "plt.legend(title='NaCl')"
   ]
  },
  {
   "cell_type": "code",
   "execution_count": 172,
   "metadata": {},
   "outputs": [
    {
     "data": {
      "text/plain": [
       "13.706607921299318"
      ]
     },
     "execution_count": 172,
     "metadata": {},
     "output_type": "execute_result"
    }
   ],
   "source": [
    "np.mean(df[df['nacl']=='150 mM']['Cohesin_1_']['d_coeff'])"
   ]
  },
  {
   "cell_type": "code",
   "execution_count": 173,
   "metadata": {},
   "outputs": [
    {
     "data": {
      "text/plain": [
       "35.66341306264134"
      ]
     },
     "execution_count": 173,
     "metadata": {},
     "output_type": "execute_result"
    }
   ],
   "source": [
    "np.mean(df[df['nacl']=='500 mM']['Cohesin_1_']['d_coeff'])"
   ]
  },
  {
   "cell_type": "code",
   "execution_count": 174,
   "metadata": {},
   "outputs": [
    {
     "data": {
      "text/plain": [
       "1.824088506209815"
      ]
     },
     "execution_count": 174,
     "metadata": {},
     "output_type": "execute_result"
    }
   ],
   "source": [
    "(df['Cohesin_1_']['d_coeff']).sem()*1.96"
   ]
  },
  {
   "cell_type": "code",
   "execution_count": 175,
   "metadata": {},
   "outputs": [
    {
     "data": {
      "text/plain": [
       "<matplotlib.axes._subplots.AxesSubplot at 0x13af07f50>"
      ]
     },
     "execution_count": 175,
     "metadata": {},
     "output_type": "execute_result"
    },
    {
     "data": {
      "image/png": "[encoded data removed]",
      "text/plain": [
       "<Figure size 192.24x144 with 1 Axes>"
      ]
     },
     "metadata": {},
     "output_type": "display_data"
    }
   ],
   "source": [
    "sns.countplot(x='MCM_bleaching_steps',hue='nacl',data=df)"
   ]
  },
  {
   "cell_type": "code",
   "execution_count": null,
   "metadata": {},
   "outputs": [],
   "source": []
  },
  {
   "cell_type": "code",
   "execution_count": 322,
   "metadata": {},
   "outputs": [],
   "source": [
    "# detect pauses\n",
    "uid_short_pause = 'dUN9pxXhb5TkZuCPm17vAV'\n",
    "uid_long_pause = 'cFtvPxQgKNfhoP3qVMW4S2'\n",
    "uid_noisy_pause = '2EepcrQfakuKUFLrxzzFAQ'"
   ]
  },
  {
   "cell_type": "code",
   "execution_count": 323,
   "metadata": {},
   "outputs": [],
   "source": [
    "# rules\n",
    "# plot msd\n",
    "# at least 5 seconds (roughly 25 frames)"
   ]
  },
  {
   "cell_type": "code",
   "execution_count": 346,
   "metadata": {},
   "outputs": [],
   "source": [
    "mol1 = DnaMoleculeArchive.instances[1].get_molecule_by_uid(uid_long_pause)\n",
    "mol2 = DnaMoleculeArchive.instances[1].get_molecule_by_uid(uid_short_pause)\n",
    "mol3 = DnaMoleculeArchive.instances[1].get_molecule_by_uid(uid_noisy_pause)"
   ]
  },
  {
   "cell_type": "code",
   "execution_count": 351,
   "metadata": {},
   "outputs": [
    {
     "data": {
      "image/png": "[encoded data removed]",
      "text/plain": [
       "<Figure size 192.24x144 with 1 Axes>"
      ]
     },
     "metadata": {},
     "output_type": "display_data"
    }
   ],
   "source": [
    "mol2.plot()"
   ]
  },
  {
   "cell_type": "code",
   "execution_count": 348,
   "metadata": {},
   "outputs": [],
   "source": [
    "d_coeffs = calc_msd_raw(df=mol1.df, prefix='Cohesin_1_', msd_col='Position_on_DNA', time_col='Time_(s)', \n",
    "                                  tau=1)"
   ]
  },
  {
   "cell_type": "code",
   "execution_count": 349,
   "metadata": {},
   "outputs": [
    {
     "data": {
      "text/plain": [
       "[<matplotlib.lines.Line2D at 0x13e7a9dd0>]"
      ]
     },
     "execution_count": 349,
     "metadata": {},
     "output_type": "execute_result"
    },
    {
     "data": {
      "image/png": "[encoded data removed]",
      "text/plain": [
       "<Figure size 1080x360 with 3 Axes>"
      ]
     },
     "metadata": {},
     "output_type": "display_data"
    }
   ],
   "source": [
    "fig,axes = plt.subplots(1,3,figsize=(15,5))\n",
    "axes[0].plot(calc_msd_raw(df=mol1.df, prefix='Cohesin_1_', msd_col='Position_on_DNA', time_col='Time_(s)', \n",
    "                                  tau=1)/1000000)\n",
    "\n",
    "axes[1].plot(calc_msd_raw(df=mol2.df, prefix='Cohesin_1_', msd_col='Position_on_DNA', time_col='Time_(s)', \n",
    "                                  tau=1)/1000000)\n",
    "\n",
    "axes[2].plot(calc_msd_raw(df=mol3.df, prefix='Cohesin_1_', msd_col='Position_on_DNA', time_col='Time_(s)', \n",
    "                                  tau=1)/1000000)\n",
    "#plt.yscale('log')\n"
   ]
  },
  {
   "cell_type": "code",
   "execution_count": 340,
   "metadata": {},
   "outputs": [
    {
     "data": {
      "image/png": "[encoded data removed]",
      "text/plain": [
       "<Figure size 360x360 with 1 Axes>"
      ]
     },
     "metadata": {},
     "output_type": "display_data"
    }
   ],
   "source": [
    "fig = plt.figure(figsize=(5,5))\n",
    "plt.plot(d_coeffs/1000000)\n",
    "plt.yscale('log')"
   ]
  },
  {
   "cell_type": "code",
   "execution_count": 358,
   "metadata": {},
   "outputs": [
    {
     "data": {
      "text/plain": [
       "(0.0, 5.0)"
      ]
     },
     "execution_count": 358,
     "metadata": {},
     "output_type": "execute_result"
    },
    {
     "data": {
      "image/png": "[encoded data removed]",
      "text/plain": [
       "<Figure size 1080x360 with 1 Axes>"
      ]
     },
     "metadata": {},
     "output_type": "display_data"
    }
   ],
   "source": [
    "fig,axes = plt.subplots(figsize=(15,5))\n",
    "plt.plot(calc_msd_raw(df=mol3.df, prefix='Cohesin_1_', msd_col='Position_on_DNA', time_col='Time_(s)', \n",
    "                                  tau=1)/1000000)\n",
    "plt.xlim(900,1100)\n",
    "plt.ylim(0,5)"
   ]
  },
  {
   "cell_type": "code",
   "execution_count": 361,
   "metadata": {},
   "outputs": [
    {
     "data": {
      "text/plain": [
       "Rolling [window=10,center=False,axis=0]"
      ]
     },
     "execution_count": 361,
     "metadata": {},
     "output_type": "execute_result"
    }
   ],
   "source": []
  },
  {
   "cell_type": "code",
   "execution_count": 372,
   "metadata": {},
   "outputs": [
    {
     "data": {
      "text/plain": [
       "(0.0, 5.0)"
      ]
     },
     "execution_count": 372,
     "metadata": {},
     "output_type": "execute_result"
    },
    {
     "data": {
      "image/png": "[encoded data removed]",
      "text/plain": [
       "<Figure size 1080x360 with 1 Axes>"
      ]
     },
     "metadata": {},
     "output_type": "display_data"
    }
   ],
   "source": [
    "fig,axes = plt.subplots(figsize=(15,5))\n",
    "plt.plot((calc_msd_raw(df=mol3.df, prefix='Cohesin_1_', msd_col='Position_on_DNA', time_col='Time_(s)', \n",
    "                                  tau=1)/1000000))\n",
    "plt.xlim(900,1100)\n",
    "plt.ylim(0,5)"
   ]
  },
  {
   "cell_type": "code",
   "execution_count": 28,
   "metadata": {},
   "outputs": [],
   "source": [
    "# PAUSE REGIONS"
   ]
  },
  {
   "cell_type": "code",
   "execution_count": 64,
   "metadata": {},
   "outputs": [
    {
     "name": "stdout",
     "output_type": "stream",
     "text": [
      "26g3CemDSKTjJiNz2xy5P\n",
      "2EepcrQfakuKUFLrxzzFAQ\n",
      "2dGBGxYFmKsAkuimnTz7P4\n",
      "99ufFXuNVrAMCQS9XwUQUS\n",
      "aipyCAN69ZfZwxxaxoGQrt\n",
      "brrew4uKwLLn7xkxkE9scm\n",
      "cFtvPxQgKNfhoP3qVMW4S2\n",
      "d3J15heW4oRPfD65UvXNVj\n",
      "dFdVKokd6HwadGjL2Uu6gG\n",
      "dKpaCm6uMrJgcucU6XrZPJ\n",
      "dvme6ySY8UTNfKqQvp4Njb\n",
      "eJdrj5KPek4PtuHzdeHKqi\n",
      "i1hX5dRdKM44Muw73BKJki\n",
      "i2Q8kUVXKeKMMj2qFeeLSg\n",
      "iM9TVZY91axtVWCb7RthDU\n",
      "iM9TVZY91axtVWCb7RthDU\n",
      "iXYttBNNocBmcTHnAwdjPS\n",
      "jymn2za5bW9FGsZX9LQb62\n",
      "k1emu2KxpQrsMd6rHxqtkm\n",
      "kt7wkDSfijvAJFaBD831CY\n",
      "kt7wkDSfijvAJFaBD831CY\n",
      "mnLHYHVbqazA9yrcLA9cyM\n",
      "mr48K2K1KKJDjnXhAW1DzP\n",
      "nJGivnnE1QJnpdt1MMNhx\n",
      "nJGivnnE1QJnpdt1MMNhx\n",
      "pFiN4uWYo1CSiXbB5HwdNH\n",
      "paa57GApusUX5mDx8hnGeN\n",
      "ryhrFg7EePM9kLwuPm3P1R\n",
      "uSBKk2MEiLtKvcMBmxFQHp\n",
      "vbdiNtN35kXWC1ia8U4hFx\n"
     ]
    }
   ],
   "source": [
    "pausing = []\n",
    "times = []\n",
    "for archive in DnaMoleculeArchive.instances[1:2]:\n",
    "    for molecule in archive.molecules:\n",
    "        \n",
    "        pausing.append(len(molecule.regions))\n",
    "        for region in molecule.regions:\n",
    "            print(molecule.uid)\n",
    "            times.append(region.end - region.start)"
   ]
  },
  {
   "cell_type": "code",
   "execution_count": 38,
   "metadata": {},
   "outputs": [
    {
     "data": {
      "text/plain": [
       "<matplotlib.axes._subplots.AxesSubplot at 0x13f01b0d0>"
      ]
     },
     "execution_count": 38,
     "metadata": {},
     "output_type": "execute_result"
    },
    {
     "data": {
      "image/png": "[encoded data removed]",
      "text/plain": [
       "<Figure size 192.24x144 with 1 Axes>"
      ]
     },
     "metadata": {},
     "output_type": "display_data"
    }
   ],
   "source": [
    "sns.distplot(times, bins=20)"
   ]
  },
  {
   "cell_type": "code",
   "execution_count": 71,
   "metadata": {},
   "outputs": [
    {
     "data": {
      "text/plain": [
       "<matplotlib.axes._subplots.AxesSubplot at 0x1360fe510>"
      ]
     },
     "execution_count": 71,
     "metadata": {},
     "output_type": "execute_result"
    },
    {
     "data": {
      "image/png": "[encoded data removed]",
      "text/plain": [
       "<Figure size 192.24x144 with 1 Axes>"
      ]
     },
     "metadata": {},
     "output_type": "display_data"
    }
   ],
   "source": [
    "sns.countplot(pausing)"
   ]
  },
  {
   "cell_type": "code",
   "execution_count": 75,
   "metadata": {},
   "outputs": [
    {
     "data": {
      "text/plain": [
       "1145.0"
      ]
     },
     "execution_count": 75,
     "metadata": {},
     "output_type": "execute_result"
    }
   ],
   "source": [
    "max(times)"
   ]
  },
  {
   "cell_type": "code",
   "execution_count": 65,
   "metadata": {},
   "outputs": [],
   "source": [
    "mol1 = DnaMoleculeArchive.instances[1].get_molecule_by_uid('26g3CemDSKTjJiNz2xy5P')"
   ]
  },
  {
   "cell_type": "code",
   "execution_count": 76,
   "metadata": {},
   "outputs": [
    {
     "data": {
      "text/plain": [
       "'Cohesin_1_'"
      ]
     },
     "execution_count": 76,
     "metadata": {},
     "output_type": "execute_result"
    }
   ],
   "source": [
    "mol1.regions[0].prefix"
   ]
  },
  {
   "cell_type": "code",
   "execution_count": 181,
   "metadata": {},
   "outputs": [
    {
     "data": {
      "text/plain": [
       "<matplotlib.axes._subplots.AxesSubplot at 0x138c80c90>"
      ]
     },
     "execution_count": 181,
     "metadata": {},
     "output_type": "execute_result"
    },
    {
     "data": {
      "image/png": "[encoded data removed]",
      "text/plain": [
       "<Figure size 192.24x144 with 1 Axes>"
      ]
     },
     "metadata": {},
     "output_type": "display_data"
    }
   ],
   "source": [
    "sns.countplot(x=('Cohesin_1_','number_pauses'), hue='MCM_variant',data=df[df['nacl']=='150 mM'])"
   ]
  },
  {
   "cell_type": "code",
   "execution_count": 269,
   "metadata": {
    "scrolled": true
   },
   "outputs": [
    {
     "data": {
      "text/plain": [
       "<matplotlib.axes._subplots.AxesSubplot at 0x1429054d0>"
      ]
     },
     "execution_count": 269,
     "metadata": {},
     "output_type": "execute_result"
    },
    {
     "data": {
      "image/png": "[encoded data removed]",
      "text/plain": [
       "<Figure size 192.24x144 with 1 Axes>"
      ]
     },
     "metadata": {},
     "output_type": "display_data"
    }
   ],
   "source": [
    "sns.barplot(x='MCM_variant', y=('Cohesin_1_','fraction_idle'), hue='nacl', data=df)"
   ]
  },
  {
   "cell_type": "code",
   "execution_count": 270,
   "metadata": {},
   "outputs": [
    {
     "data": {
      "text/plain": [
       "<matplotlib.axes._subplots.AxesSubplot at 0x1429ee090>"
      ]
     },
     "execution_count": 270,
     "metadata": {},
     "output_type": "execute_result"
    },
    {
     "data": {
      "image/png": "[encoded data removed]",
      "text/plain": [
       "<Figure size 192.24x144 with 1 Axes>"
      ]
     },
     "metadata": {},
     "output_type": "display_data"
    }
   ],
   "source": [
    "sns.barplot(x='MCM_bleaching_steps', y=('Cohesin_1_','fraction_idle'), hue='nacl', data=df)"
   ]
  },
  {
   "cell_type": "code",
   "execution_count": 162,
   "metadata": {},
   "outputs": [
    {
     "data": {
      "text/plain": [
       "MultiIndex([(         'Cohesin_1_',    'avg_position_on_dna'),\n",
       "            (         'Cohesin_1_', 'cum_pause_duration_(s)'),\n",
       "            (         'Cohesin_1_',                'd_coeff'),\n",
       "            (         'Cohesin_1_',                  'dtime'),\n",
       "            (         'Cohesin_1_',          'fraction_idle'),\n",
       "            (         'Cohesin_1_',      'initial_intensity'),\n",
       "            (         'Cohesin_1_',               'lifetime'),\n",
       "            (         'Cohesin_1_',                    'msd'),\n",
       "            (         'Cohesin_1_',          'number_pauses'),\n",
       "            (         'Cohesin_1_',           'timespan_(s)'),\n",
       "            (             'MCM_1_',    'avg_position_on_dna'),\n",
       "            (             'MCM_1_', 'cum_pause_duration_(s)'),\n",
       "            (             'MCM_1_',                'd_coeff'),\n",
       "            (             'MCM_1_',                  'dtime'),\n",
       "            (             'MCM_1_',          'fraction_idle'),\n",
       "            (             'MCM_1_',      'initial_intensity'),\n",
       "            (             'MCM_1_',               'lifetime'),\n",
       "            (             'MCM_1_',                    'msd'),\n",
       "            (             'MCM_1_',          'number_pauses'),\n",
       "            (             'MCM_1_',           'timespan_(s)'),\n",
       "            (      'MCM_at_origin',                       ''),\n",
       "            ('MCM_bleaching_steps',                       ''),\n",
       "            (        'MCM_variant',                       ''),\n",
       "            (         'dna_length',                       ''),\n",
       "            (      'label_Cohesin',                       ''),\n",
       "            (          'label_MCM',                       ''),\n",
       "            (               'nacl',                       ''),\n",
       "            (         'nucleotide',                       ''),\n",
       "            (     'number_Cohesin',                       ''),\n",
       "            (         'number_MCM',                       ''),\n",
       "            (               'tags',                       '')],\n",
       "           names=['molecule', 'properties'])"
      ]
     },
     "execution_count": 162,
     "metadata": {},
     "output_type": "execute_result"
    }
   ],
   "source": [
    "df.columns"
   ]
  },
  {
   "cell_type": "markdown",
   "metadata": {},
   "source": [
    "## setup df_pause"
   ]
  },
  {
   "cell_type": "code",
   "execution_count": 263,
   "metadata": {
    "scrolled": true
   },
   "outputs": [
    {
     "data": {
      "text/html": [
       "<div>\n",
       "<style scoped>\n",
       "    .dataframe tbody tr th:only-of-type {\n",
       "        vertical-align: middle;\n",
       "    }\n",
       "\n",
       "    .dataframe tbody tr th {\n",
       "        vertical-align: top;\n",
       "    }\n",
       "\n",
       "    .dataframe thead th {\n",
       "        text-align: right;\n",
       "    }\n",
       "</style>\n",
       "<table border=\"1\" class=\"dataframe\">\n",
       "  <thead>\n",
       "    <tr style=\"text-align: right;\">\n",
       "      <th></th>\n",
       "      <th>MCM_at_origin</th>\n",
       "      <th>MCM_bleaching_steps</th>\n",
       "      <th>MCM_variant</th>\n",
       "      <th>nacl</th>\n",
       "      <th>pause_duration</th>\n",
       "      <th>MCM_position_on_dna</th>\n",
       "      <th>pause_position_on_dna</th>\n",
       "      <th>pause_at_MCM</th>\n",
       "    </tr>\n",
       "  </thead>\n",
       "  <tbody>\n",
       "  </tbody>\n",
       "</table>\n",
       "</div>"
      ],
      "text/plain": [
       "Empty DataFrame\n",
       "Columns: [MCM_at_origin, MCM_bleaching_steps, MCM_variant, nacl, pause_duration, MCM_position_on_dna, pause_position_on_dna, pause_at_MCM]\n",
       "Index: []"
      ]
     },
     "execution_count": 263,
     "metadata": {},
     "output_type": "execute_result"
    }
   ],
   "source": [
    "df_pause = pd.DataFrame(columns=['MCM_at_origin', 'MCM_bleaching_steps', 'MCM_variant', 'nacl', \n",
    "                                 'pause_duration','MCM_position_on_dna', 'pause_position_on_dna', 'pause_at_MCM'])   \n",
    "df_pause"
   ]
  },
  {
   "cell_type": "code",
   "execution_count": 264,
   "metadata": {},
   "outputs": [
    {
     "data": {
      "application/vnd.jupyter.widget-view+json": {
       "model_id": "ec15a772ac8e42d69c78391874ca8478",
       "version_major": 2,
       "version_minor": 0
      },
      "text/plain": [
       "HBox(children=(FloatProgress(value=0.0, max=3.0), HTML(value='')))"
      ]
     },
     "metadata": {},
     "output_type": "display_data"
    },
    {
     "name": "stdout",
     "output_type": "stream",
     "text": [
      "\n"
     ]
    }
   ],
   "source": [
    "for archive in tqdm(DnaMoleculeArchive.instances):\n",
    "\n",
    "    for molecule in archive.molecules:\n",
    "        # pauses:\n",
    "        for region in molecule.regions:\n",
    "\n",
    "            # check again for the right regions, prefixes and duration\n",
    "            if ('idle' in region.name) and (region.prefix == 'Cohesin_1_') and (region.end - region.start >= 25):\n",
    "\n",
    "                # temporary df\n",
    "                _temp_df = pd.DataFrame()\n",
    "                try:\n",
    "                    _temp_df.loc[0,'MCM_at_origin'] = molecule.proteins['MCM'] > 0\n",
    "                    _temp_df.loc[0,'MCM_bleaching_steps'] = molecule.params['MCM_bleaching_steps']\n",
    "                    _temp_df.loc[0,'MCM_variant'] = archive.mcm\n",
    "                    _temp_df.loc[0,'MCM_position_on_dna'] = molecule.df['MCM_1_Position_on_DNA'].median()\n",
    "                except KeyError:\n",
    "                    _temp_df.loc[0,'MCM_at_origin'] = False\n",
    "                    _temp_df.loc[0,'MCM_variant'] = 'n/a'\n",
    "                \n",
    "                _temp_df.loc[0,'nacl'] = archive.nacl\n",
    "                _temp_df.loc[0,'pause_duration'] = (molecule.df[molecule.df[region.prefix+region.column] == region.end][region.prefix+'Time_(s)'].item() - \n",
    "                                              molecule.df[molecule.df[region.prefix+region.column] == region.start][region.prefix+'Time_(s)'].item())\n",
    "                \n",
    "                _temp_df.loc[0,'pause_position_on_dna'] = molecule.df[(molecule.df[region.prefix+region.column] >= region.start) & \n",
    "                                                                (molecule.df[region.prefix+region.column] <= region.end)]['Cohesin_1_Position_on_DNA'].median()\n",
    " \n",
    "                try:\n",
    "                    _temp_df.loc[0,'pause_at_MCM'] = abs(_temp_df.loc[0,'MCM_position_on_dna'] - _temp_df.loc[0,'pause_position_on_dna']) <= 1500\n",
    "                except KeyError:\n",
    "                    pass\n",
    "                         \n",
    "            df_pause = pd.concat([df_pause, _temp_df])\n",
    "            \n",
    "# again sort MultiIndexCols for performance\n",
    "df_pause.sort_index(axis=1, inplace=True)\n",
    "\n",
    "# fix data types\n",
    "df_pause = df_pause.infer_objects()"
   ]
  },
  {
   "cell_type": "code",
   "execution_count": 265,
   "metadata": {},
   "outputs": [
    {
     "data": {
      "text/html": [
       "<div>\n",
       "<style scoped>\n",
       "    .dataframe tbody tr th:only-of-type {\n",
       "        vertical-align: middle;\n",
       "    }\n",
       "\n",
       "    .dataframe tbody tr th {\n",
       "        vertical-align: top;\n",
       "    }\n",
       "\n",
       "    .dataframe thead th {\n",
       "        text-align: right;\n",
       "    }\n",
       "</style>\n",
       "<table border=\"1\" class=\"dataframe\">\n",
       "  <thead>\n",
       "    <tr style=\"text-align: right;\">\n",
       "      <th></th>\n",
       "      <th>MCM_at_origin</th>\n",
       "      <th>MCM_bleaching_steps</th>\n",
       "      <th>MCM_position_on_dna</th>\n",
       "      <th>MCM_variant</th>\n",
       "      <th>nacl</th>\n",
       "      <th>pause_at_MCM</th>\n",
       "      <th>pause_duration</th>\n",
       "      <th>pause_position_on_dna</th>\n",
       "    </tr>\n",
       "  </thead>\n",
       "  <tbody>\n",
       "    <tr>\n",
       "      <th>0</th>\n",
       "      <td>True</td>\n",
       "      <td>3.0</td>\n",
       "      <td>3536.266783</td>\n",
       "      <td>wt</td>\n",
       "      <td>500 mM</td>\n",
       "      <td>False</td>\n",
       "      <td>52.140</td>\n",
       "      <td>20173.783329</td>\n",
       "    </tr>\n",
       "    <tr>\n",
       "      <th>0</th>\n",
       "      <td>True</td>\n",
       "      <td>2.0</td>\n",
       "      <td>5107.475979</td>\n",
       "      <td>wt</td>\n",
       "      <td>500 mM</td>\n",
       "      <td>True</td>\n",
       "      <td>181.530</td>\n",
       "      <td>4840.273699</td>\n",
       "    </tr>\n",
       "    <tr>\n",
       "      <th>0</th>\n",
       "      <td>True</td>\n",
       "      <td>2.0</td>\n",
       "      <td>5273.016721</td>\n",
       "      <td>wt</td>\n",
       "      <td>150 mM</td>\n",
       "      <td>True</td>\n",
       "      <td>52.630</td>\n",
       "      <td>4932.590470</td>\n",
       "    </tr>\n",
       "    <tr>\n",
       "      <th>0</th>\n",
       "      <td>True</td>\n",
       "      <td>4.0</td>\n",
       "      <td>5049.834408</td>\n",
       "      <td>wt</td>\n",
       "      <td>150 mM</td>\n",
       "      <td>True</td>\n",
       "      <td>125.411</td>\n",
       "      <td>5164.722176</td>\n",
       "    </tr>\n",
       "    <tr>\n",
       "      <th>0</th>\n",
       "      <td>True</td>\n",
       "      <td>3.0</td>\n",
       "      <td>13035.814151</td>\n",
       "      <td>wt</td>\n",
       "      <td>150 mM</td>\n",
       "      <td>False</td>\n",
       "      <td>115.150</td>\n",
       "      <td>19359.930888</td>\n",
       "    </tr>\n",
       "    <tr>\n",
       "      <th>0</th>\n",
       "      <td>True</td>\n",
       "      <td>4.0</td>\n",
       "      <td>4958.434377</td>\n",
       "      <td>wt</td>\n",
       "      <td>150 mM</td>\n",
       "      <td>True</td>\n",
       "      <td>77.580</td>\n",
       "      <td>6106.968778</td>\n",
       "    </tr>\n",
       "    <tr>\n",
       "      <th>0</th>\n",
       "      <td>True</td>\n",
       "      <td>3.0</td>\n",
       "      <td>7077.017852</td>\n",
       "      <td>wt</td>\n",
       "      <td>150 mM</td>\n",
       "      <td>True</td>\n",
       "      <td>8.190</td>\n",
       "      <td>5596.728895</td>\n",
       "    </tr>\n",
       "    <tr>\n",
       "      <th>0</th>\n",
       "      <td>True</td>\n",
       "      <td>2.0</td>\n",
       "      <td>5324.481452</td>\n",
       "      <td>wt</td>\n",
       "      <td>150 mM</td>\n",
       "      <td>True</td>\n",
       "      <td>5.260</td>\n",
       "      <td>4700.725920</td>\n",
       "    </tr>\n",
       "    <tr>\n",
       "      <th>0</th>\n",
       "      <td>True</td>\n",
       "      <td>1.0</td>\n",
       "      <td>5529.985371</td>\n",
       "      <td>wt</td>\n",
       "      <td>150 mM</td>\n",
       "      <td>False</td>\n",
       "      <td>37.480</td>\n",
       "      <td>18250.571016</td>\n",
       "    </tr>\n",
       "    <tr>\n",
       "      <th>0</th>\n",
       "      <td>True</td>\n",
       "      <td>4.0</td>\n",
       "      <td>4791.776182</td>\n",
       "      <td>wt</td>\n",
       "      <td>150 mM</td>\n",
       "      <td>True</td>\n",
       "      <td>5.180</td>\n",
       "      <td>4098.946904</td>\n",
       "    </tr>\n",
       "    <tr>\n",
       "      <th>0</th>\n",
       "      <td>True</td>\n",
       "      <td>1.0</td>\n",
       "      <td>5087.956373</td>\n",
       "      <td>wt</td>\n",
       "      <td>150 mM</td>\n",
       "      <td>True</td>\n",
       "      <td>88.940</td>\n",
       "      <td>5478.908500</td>\n",
       "    </tr>\n",
       "    <tr>\n",
       "      <th>0</th>\n",
       "      <td>True</td>\n",
       "      <td>1.0</td>\n",
       "      <td>2342.082148</td>\n",
       "      <td>wt</td>\n",
       "      <td>150 mM</td>\n",
       "      <td>True</td>\n",
       "      <td>99.210</td>\n",
       "      <td>2564.147165</td>\n",
       "    </tr>\n",
       "    <tr>\n",
       "      <th>0</th>\n",
       "      <td>True</td>\n",
       "      <td>4.0</td>\n",
       "      <td>5459.482637</td>\n",
       "      <td>wt</td>\n",
       "      <td>150 mM</td>\n",
       "      <td>True</td>\n",
       "      <td>12.140</td>\n",
       "      <td>4402.604528</td>\n",
       "    </tr>\n",
       "    <tr>\n",
       "      <th>0</th>\n",
       "      <td>True</td>\n",
       "      <td>2.0</td>\n",
       "      <td>4942.002820</td>\n",
       "      <td>wt</td>\n",
       "      <td>150 mM</td>\n",
       "      <td>True</td>\n",
       "      <td>196.150</td>\n",
       "      <td>5187.777619</td>\n",
       "    </tr>\n",
       "    <tr>\n",
       "      <th>0</th>\n",
       "      <td>True</td>\n",
       "      <td>2.0</td>\n",
       "      <td>5865.115403</td>\n",
       "      <td>wt</td>\n",
       "      <td>150 mM</td>\n",
       "      <td>True</td>\n",
       "      <td>4.560</td>\n",
       "      <td>5158.574540</td>\n",
       "    </tr>\n",
       "    <tr>\n",
       "      <th>0</th>\n",
       "      <td>True</td>\n",
       "      <td>3.0</td>\n",
       "      <td>5338.898380</td>\n",
       "      <td>wt</td>\n",
       "      <td>150 mM</td>\n",
       "      <td>True</td>\n",
       "      <td>194.810</td>\n",
       "      <td>6295.097421</td>\n",
       "    </tr>\n",
       "    <tr>\n",
       "      <th>0</th>\n",
       "      <td>True</td>\n",
       "      <td>3.0</td>\n",
       "      <td>4885.975261</td>\n",
       "      <td>wt</td>\n",
       "      <td>150 mM</td>\n",
       "      <td>False</td>\n",
       "      <td>18.980</td>\n",
       "      <td>12391.158134</td>\n",
       "    </tr>\n",
       "    <tr>\n",
       "      <th>0</th>\n",
       "      <td>True</td>\n",
       "      <td>3.0</td>\n",
       "      <td>4885.975261</td>\n",
       "      <td>wt</td>\n",
       "      <td>150 mM</td>\n",
       "      <td>False</td>\n",
       "      <td>15.610</td>\n",
       "      <td>12417.894309</td>\n",
       "    </tr>\n",
       "    <tr>\n",
       "      <th>0</th>\n",
       "      <td>True</td>\n",
       "      <td>3.0</td>\n",
       "      <td>5187.590666</td>\n",
       "      <td>wt</td>\n",
       "      <td>150 mM</td>\n",
       "      <td>True</td>\n",
       "      <td>203.450</td>\n",
       "      <td>4578.645069</td>\n",
       "    </tr>\n",
       "    <tr>\n",
       "      <th>0</th>\n",
       "      <td>False</td>\n",
       "      <td>NaN</td>\n",
       "      <td>NaN</td>\n",
       "      <td>n/a</td>\n",
       "      <td>150 mM</td>\n",
       "      <td>NaN</td>\n",
       "      <td>57.410</td>\n",
       "      <td>12683.263020</td>\n",
       "    </tr>\n",
       "    <tr>\n",
       "      <th>0</th>\n",
       "      <td>True</td>\n",
       "      <td>2.0</td>\n",
       "      <td>3310.186057</td>\n",
       "      <td>wt</td>\n",
       "      <td>150 mM</td>\n",
       "      <td>False</td>\n",
       "      <td>6.320</td>\n",
       "      <td>13095.872487</td>\n",
       "    </tr>\n",
       "    <tr>\n",
       "      <th>0</th>\n",
       "      <td>True</td>\n",
       "      <td>2.0</td>\n",
       "      <td>4964.530974</td>\n",
       "      <td>wt</td>\n",
       "      <td>150 mM</td>\n",
       "      <td>False</td>\n",
       "      <td>7.390</td>\n",
       "      <td>2736.890267</td>\n",
       "    </tr>\n",
       "    <tr>\n",
       "      <th>0</th>\n",
       "      <td>True</td>\n",
       "      <td>2.0</td>\n",
       "      <td>4964.530974</td>\n",
       "      <td>wt</td>\n",
       "      <td>150 mM</td>\n",
       "      <td>True</td>\n",
       "      <td>5.870</td>\n",
       "      <td>4338.670670</td>\n",
       "    </tr>\n",
       "    <tr>\n",
       "      <th>0</th>\n",
       "      <td>True</td>\n",
       "      <td>2.0</td>\n",
       "      <td>5153.010714</td>\n",
       "      <td>wt</td>\n",
       "      <td>150 mM</td>\n",
       "      <td>True</td>\n",
       "      <td>217.510</td>\n",
       "      <td>6076.634717</td>\n",
       "    </tr>\n",
       "    <tr>\n",
       "      <th>0</th>\n",
       "      <td>True</td>\n",
       "      <td>1.0</td>\n",
       "      <td>6223.458206</td>\n",
       "      <td>wt</td>\n",
       "      <td>150 mM</td>\n",
       "      <td>True</td>\n",
       "      <td>9.910</td>\n",
       "      <td>6326.086408</td>\n",
       "    </tr>\n",
       "    <tr>\n",
       "      <th>0</th>\n",
       "      <td>True</td>\n",
       "      <td>2.0</td>\n",
       "      <td>5229.676905</td>\n",
       "      <td>wt</td>\n",
       "      <td>150 mM</td>\n",
       "      <td>True</td>\n",
       "      <td>5.760</td>\n",
       "      <td>5221.498764</td>\n",
       "    </tr>\n",
       "    <tr>\n",
       "      <th>0</th>\n",
       "      <td>True</td>\n",
       "      <td>2.0</td>\n",
       "      <td>5229.676905</td>\n",
       "      <td>wt</td>\n",
       "      <td>150 mM</td>\n",
       "      <td>True</td>\n",
       "      <td>156.300</td>\n",
       "      <td>4913.668985</td>\n",
       "    </tr>\n",
       "    <tr>\n",
       "      <th>0</th>\n",
       "      <td>True</td>\n",
       "      <td>3.0</td>\n",
       "      <td>4960.769467</td>\n",
       "      <td>wt</td>\n",
       "      <td>150 mM</td>\n",
       "      <td>False</td>\n",
       "      <td>6.360</td>\n",
       "      <td>1365.937936</td>\n",
       "    </tr>\n",
       "    <tr>\n",
       "      <th>0</th>\n",
       "      <td>True</td>\n",
       "      <td>1.0</td>\n",
       "      <td>5291.811481</td>\n",
       "      <td>wt</td>\n",
       "      <td>150 mM</td>\n",
       "      <td>True</td>\n",
       "      <td>8.070</td>\n",
       "      <td>6337.694530</td>\n",
       "    </tr>\n",
       "    <tr>\n",
       "      <th>0</th>\n",
       "      <td>True</td>\n",
       "      <td>4.0</td>\n",
       "      <td>4063.102339</td>\n",
       "      <td>wt</td>\n",
       "      <td>150 mM</td>\n",
       "      <td>False</td>\n",
       "      <td>16.050</td>\n",
       "      <td>5670.732825</td>\n",
       "    </tr>\n",
       "    <tr>\n",
       "      <th>0</th>\n",
       "      <td>True</td>\n",
       "      <td>4.0</td>\n",
       "      <td>5947.221812</td>\n",
       "      <td>wt</td>\n",
       "      <td>150 mM</td>\n",
       "      <td>True</td>\n",
       "      <td>11.050</td>\n",
       "      <td>5584.756491</td>\n",
       "    </tr>\n",
       "    <tr>\n",
       "      <th>0</th>\n",
       "      <td>True</td>\n",
       "      <td>2.0</td>\n",
       "      <td>2820.384268</td>\n",
       "      <td>wt</td>\n",
       "      <td>150 mM</td>\n",
       "      <td>True</td>\n",
       "      <td>7.200</td>\n",
       "      <td>3438.592690</td>\n",
       "    </tr>\n",
       "  </tbody>\n",
       "</table>\n",
       "</div>"
      ],
      "text/plain": [
       "   MCM_at_origin  MCM_bleaching_steps  MCM_position_on_dna MCM_variant  \\\n",
       "0           True                  3.0          3536.266783          wt   \n",
       "0           True                  2.0          5107.475979          wt   \n",
       "0           True                  2.0          5273.016721          wt   \n",
       "0           True                  4.0          5049.834408          wt   \n",
       "0           True                  3.0         13035.814151          wt   \n",
       "0           True                  4.0          4958.434377          wt   \n",
       "0           True                  3.0          7077.017852          wt   \n",
       "0           True                  2.0          5324.481452          wt   \n",
       "0           True                  1.0          5529.985371          wt   \n",
       "0           True                  4.0          4791.776182          wt   \n",
       "0           True                  1.0          5087.956373          wt   \n",
       "0           True                  1.0          2342.082148          wt   \n",
       "0           True                  4.0          5459.482637          wt   \n",
       "0           True                  2.0          4942.002820          wt   \n",
       "0           True                  2.0          5865.115403          wt   \n",
       "0           True                  3.0          5338.898380          wt   \n",
       "0           True                  3.0          4885.975261          wt   \n",
       "0           True                  3.0          4885.975261          wt   \n",
       "0           True                  3.0          5187.590666          wt   \n",
       "0          False                  NaN                  NaN         n/a   \n",
       "0           True                  2.0          3310.186057          wt   \n",
       "0           True                  2.0          4964.530974          wt   \n",
       "0           True                  2.0          4964.530974          wt   \n",
       "0           True                  2.0          5153.010714          wt   \n",
       "0           True                  1.0          6223.458206          wt   \n",
       "0           True                  2.0          5229.676905          wt   \n",
       "0           True                  2.0          5229.676905          wt   \n",
       "0           True                  3.0          4960.769467          wt   \n",
       "0           True                  1.0          5291.811481          wt   \n",
       "0           True                  4.0          4063.102339          wt   \n",
       "0           True                  4.0          5947.221812          wt   \n",
       "0           True                  2.0          2820.384268          wt   \n",
       "\n",
       "     nacl pause_at_MCM  pause_duration  pause_position_on_dna  \n",
       "0  500 mM        False          52.140           20173.783329  \n",
       "0  500 mM         True         181.530            4840.273699  \n",
       "0  150 mM         True          52.630            4932.590470  \n",
       "0  150 mM         True         125.411            5164.722176  \n",
       "0  150 mM        False         115.150           19359.930888  \n",
       "0  150 mM         True          77.580            6106.968778  \n",
       "0  150 mM         True           8.190            5596.728895  \n",
       "0  150 mM         True           5.260            4700.725920  \n",
       "0  150 mM        False          37.480           18250.571016  \n",
       "0  150 mM         True           5.180            4098.946904  \n",
       "0  150 mM         True          88.940            5478.908500  \n",
       "0  150 mM         True          99.210            2564.147165  \n",
       "0  150 mM         True          12.140            4402.604528  \n",
       "0  150 mM         True         196.150            5187.777619  \n",
       "0  150 mM         True           4.560            5158.574540  \n",
       "0  150 mM         True         194.810            6295.097421  \n",
       "0  150 mM        False          18.980           12391.158134  \n",
       "0  150 mM        False          15.610           12417.894309  \n",
       "0  150 mM         True         203.450            4578.645069  \n",
       "0  150 mM          NaN          57.410           12683.263020  \n",
       "0  150 mM        False           6.320           13095.872487  \n",
       "0  150 mM        False           7.390            2736.890267  \n",
       "0  150 mM         True           5.870            4338.670670  \n",
       "0  150 mM         True         217.510            6076.634717  \n",
       "0  150 mM         True           9.910            6326.086408  \n",
       "0  150 mM         True           5.760            5221.498764  \n",
       "0  150 mM         True         156.300            4913.668985  \n",
       "0  150 mM        False           6.360            1365.937936  \n",
       "0  150 mM         True           8.070            6337.694530  \n",
       "0  150 mM        False          16.050            5670.732825  \n",
       "0  150 mM         True          11.050            5584.756491  \n",
       "0  150 mM         True           7.200            3438.592690  "
      ]
     },
     "execution_count": 265,
     "metadata": {},
     "output_type": "execute_result"
    }
   ],
   "source": [
    "df_pause"
   ]
  },
  {
   "cell_type": "code",
   "execution_count": 266,
   "metadata": {},
   "outputs": [
    {
     "data": {
      "text/plain": [
       "<matplotlib.axes._subplots.AxesSubplot at 0x142849510>"
      ]
     },
     "execution_count": 266,
     "metadata": {},
     "output_type": "execute_result"
    },
    {
     "data": {
      "image/png": "[encoded data removed]",
      "text/plain": [
       "<Figure size 192.24x144 with 1 Axes>"
      ]
     },
     "metadata": {},
     "output_type": "display_data"
    }
   ],
   "source": [
    "sns.countplot(y='pause_at_MCM', data=df_pause)"
   ]
  },
  {
   "cell_type": "code",
   "execution_count": 267,
   "metadata": {},
   "outputs": [
    {
     "data": {
      "text/plain": [
       "<matplotlib.axes._subplots.AxesSubplot at 0x1415538d0>"
      ]
     },
     "execution_count": 267,
     "metadata": {},
     "output_type": "execute_result"
    },
    {
     "data": {
      "image/png": "[encoded data removed]",
      "text/plain": [
       "<Figure size 192.24x144 with 1 Axes>"
      ]
     },
     "metadata": {},
     "output_type": "display_data"
    }
   ],
   "source": [
    "sns.distplot(df_pause['pause_position_on_dna'])"
   ]
  },
  {
   "cell_type": "code",
   "execution_count": 268,
   "metadata": {},
   "outputs": [
    {
     "data": {
      "text/plain": [
       "<matplotlib.axes._subplots.AxesSubplot at 0x14287dad0>"
      ]
     },
     "execution_count": 268,
     "metadata": {},
     "output_type": "execute_result"
    },
    {
     "data": {
      "image/png": "[encoded data removed]",
      "text/plain": [
       "<Figure size 192.24x144 with 1 Axes>"
      ]
     },
     "metadata": {},
     "output_type": "display_data"
    }
   ],
   "source": [
    "sns.distplot(df_pause['pause_duration'])"
   ]
  },
  {
   "cell_type": "code",
   "execution_count": null,
   "metadata": {},
   "outputs": [],
   "source": []
  },
  {
   "cell_type": "markdown",
   "metadata": {},
   "source": [
    "## Figures"
   ]
  },
  {
   "cell_type": "markdown",
   "metadata": {},
   "source": [
    "### Figure 1B: ORC-MCM loading sites"
   ]
  },
  {
   "cell_type": "code",
   "execution_count": null,
   "metadata": {},
   "outputs": [],
   "source": [
    "proteins = ['ORC','MCM']\n",
    "pal_pos = 1\n",
    "\n",
    "fig,axes = plt.subplots(len(proteins),1,sharex=True,sharey=True)\n",
    "\n",
    "for i, protein in enumerate(proteins):\n",
    "    sns.distplot(df.filter(regex=(protein+\"_\"),axis=1).xs('start_site',level='properties',axis=1)/1000,\n",
    "                 label=f'{protein}',color=palettes[protein][pal_pos],bins = np.linspace(0, 25, 51), ax=axes[i])\n",
    "    # mean+/- sem\n",
    "    mean_start = pd.melt(df.filter(regex=(protein+\"_\"),axis=1).xs('start_site',level='properties',axis=1)/1000)['value'].median()\n",
    "    sem_start = pd.melt(df.filter(regex=(protein+\"_\"),axis=1).xs('start_site',level='properties',axis=1)/1000)['value'].sem()\n",
    "    axes[i].text(0.95, 0.85, f\"mean = {round(mean_start,2)} $\\pm$ {round(sem_start,2)} kb\",\n",
    "            verticalalignment='top', horizontalalignment='right',\n",
    "            transform=axes[i].transAxes,color=palettes[protein][pal_pos])\n",
    "\n",
    "    axes[i].text(0.95, 0.95, f\"n = {len(pd.melt(df.filter(regex=(protein+'_'),axis=1).xs('start_site',level='properties',axis=1))['value'].dropna())}\",\n",
    "            verticalalignment='top', horizontalalignment='right',\n",
    "            transform=axes[i].transAxes)\n",
    "\n",
    "for ax in axes:\n",
    "    ax.set_xlim(0,24)\n",
    "    ax.set_ylim(0,0.75)\n",
    "    ax.legend(frameon=False,loc=7)\n",
    "\n",
    "fig.text(0.5, -0.04, 'Position on DNA (kb)', ha='center', rotation='horizontal')\n",
    "fig.text(-0.04, 0.5, 'Probability density', va='center', rotation='vertical')\n",
    "\n",
    "sns.despine()\n",
    "#plt.tight_layout()\n",
    "\n",
    "plt.savefig(dir_out+'1B_ORC-MCM_loading_sites.svg',transparent=True)\n"
   ]
  },
  {
   "cell_type": "code",
   "execution_count": null,
   "metadata": {},
   "outputs": [],
   "source": []
  },
  {
   "cell_type": "code",
   "execution_count": null,
   "metadata": {},
   "outputs": [],
   "source": []
  },
  {
   "cell_type": "code",
   "execution_count": null,
   "metadata": {},
   "outputs": [],
   "source": []
  },
  {
   "cell_type": "code",
   "execution_count": null,
   "metadata": {},
   "outputs": [],
   "source": []
  },
  {
   "cell_type": "code",
   "execution_count": null,
   "metadata": {},
   "outputs": [],
   "source": []
  },
  {
   "cell_type": "code",
   "execution_count": null,
   "metadata": {},
   "outputs": [],
   "source": []
  }
 ],
 "metadata": {
  "kernelspec": {
   "display_name": "Python 3",
   "language": "python",
   "name": "python3"
  },
  "language_info": {
   "codemirror_mode": {
    "name": "ipython",
    "version": 3
   },
   "file_extension": ".py",
   "mimetype": "text/x-python",
   "name": "python",
   "nbconvert_exporter": "python",
   "pygments_lexer": "ipython3",
   "version": "3.7.6"
  },
  "toc": {
   "base_numbering": 1,
   "nav_menu": {},
   "number_sections": false,
   "sideBar": false,
   "skip_h1_title": false,
   "title_cell": "Table of Contents",
   "title_sidebar": "Contents",
   "toc_cell": false,
   "toc_position": {},
   "toc_section_display": false,
   "toc_window_display": false
  }
 },
 "nbformat": 4,
 "nbformat_minor": 4
}
